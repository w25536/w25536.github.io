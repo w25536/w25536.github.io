{
 "cells": [
  {
   "cell_type": "code",
   "execution_count": 131,
   "metadata": {},
   "outputs": [
    {
     "name": "stdout",
     "output_type": "stream",
     "text": [
      "Path to dataset files: /Users/jeongho/.cache/kagglehub/datasets/vikasojha98/top-women-chess-players/versions/1\n"
     ]
    }
   ],
   "source": [
    "import kagglehub\n",
    "\n",
    "# Download latest version\n",
    "path = kagglehub.dataset_download(\"vikasojha98/top-women-chess-players\")\n",
    "\n",
    "print(\"Path to dataset files:\", path)"
   ]
  },
  {
   "cell_type": "code",
   "execution_count": 132,
   "metadata": {},
   "outputs": [],
   "source": [
    "import pandas as pd\n",
    "import numpy as np\n",
    "import matplotlib.pyplot as plt\n",
    "import seaborn as sns\n",
    "\n",
    "import os\n",
    "\n",
    "from sklearn.preprocessing import *\n",
    "from sklearn.model_selection import train_test_split\n",
    "\n",
    "from sklearn.linear_model import LogisticRegression\n",
    "\n",
    "\n",
    "df = pd.read_csv(os.path.join(path, \"top_women_chess_players_aug_2020.csv\"))"
   ]
  },
  {
   "cell_type": "code",
   "execution_count": 133,
   "metadata": {},
   "outputs": [
    {
     "name": "stdout",
     "output_type": "stream",
     "text": [
      "<class 'pandas.core.frame.DataFrame'>\n",
      "RangeIndex: 8553 entries, 0 to 8552\n",
      "Data columns (total 10 columns):\n",
      " #   Column           Non-Null Count  Dtype  \n",
      "---  ------           --------------  -----  \n",
      " 0   Fide id          8553 non-null   int64  \n",
      " 1   Name             8553 non-null   object \n",
      " 2   Federation       8553 non-null   object \n",
      " 3   Gender           8553 non-null   object \n",
      " 4   Year_of_birth    8261 non-null   float64\n",
      " 5   Title            3118 non-null   object \n",
      " 6   Standard_Rating  8553 non-null   int64  \n",
      " 7   Rapid_rating     3608 non-null   float64\n",
      " 8   Blitz_rating     3472 non-null   float64\n",
      " 9   Inactive_flag    5852 non-null   object \n",
      "dtypes: float64(3), int64(2), object(5)\n",
      "memory usage: 668.3+ KB\n"
     ]
    }
   ],
   "source": [
    "df.info()"
   ]
  },
  {
   "cell_type": "code",
   "execution_count": 134,
   "metadata": {},
   "outputs": [],
   "source": [
    "encoder = LabelEncoder()\n",
    "\n",
    "\n",
    "def preprocess_df(df):\n",
    "    df = df.drop([\"Fide id\", \"Name\", \"Gender\", \"Federation\"], axis=1).copy()\n",
    "\n",
    "    numeric_df = df.select_dtypes(np.number)\n",
    "    numeric_cols = numeric_df.columns\n",
    "\n",
    "    for col in numeric_cols:\n",
    "        df[col] = df[col].fillna(df[col].mean())\n",
    "\n",
    "    df[\"Inactive_flag\"] = df[\"Inactive_flag\"].fillna(\"wa\").copy()\n",
    "\n",
    "    title_dummies = pd.get_dummies(df[\"Title\"], dtype=int).copy()\n",
    "\n",
    "    df = pd.concat([df, title_dummies[\"GM\"]], axis=1)\n",
    "    df = df.drop([\"Title\"], axis=1)\n",
    "\n",
    "    df[\"Inactive_flag\"] = encoder.fit_transform(df[\"Inactive_flag\"])\n",
    "    mappings = {label: index for index, label in enumerate(encoder.classes_)}\n",
    "\n",
    "    print(mappings)\n",
    "\n",
    "    y = df[\"GM\"].copy()\n",
    "    X = df.drop([\"GM\"], axis=1).copy()\n",
    "\n",
    "    scaler = MinMaxScaler()\n",
    "    scaled_X = scaler.fit_transform(X)\n",
    "\n",
    "    X = pd.DataFrame(scaled_X)\n",
    "\n",
    "    return X, y"
   ]
  },
  {
   "cell_type": "code",
   "execution_count": 135,
   "metadata": {},
   "outputs": [
    {
     "name": "stdout",
     "output_type": "stream",
     "text": [
      "{'wa': 0, 'wi': 1}\n"
     ]
    }
   ],
   "source": [
    "X, y = preprocess_df(df)\n",
    "\n",
    "\n",
    "X_train, X_test, y_train, y_test = train_test_split(X, y, train_size=0.8, shuffle=True)\n",
    "\n",
    "model = LogisticRegression()"
   ]
  },
  {
   "cell_type": "code",
   "execution_count": null,
   "metadata": {},
   "outputs": [],
   "source": [
    "from pycaret.classification import *\n",
    "\n",
    "df = pd.concat([X, y], axis=1)\n",
    "\n",
    "setup"
   ]
  },
  {
   "cell_type": "code",
   "execution_count": 136,
   "metadata": {},
   "outputs": [
    {
     "data": {
      "text/html": [
       "<div>\n",
       "<style scoped>\n",
       "    .dataframe tbody tr th:only-of-type {\n",
       "        vertical-align: middle;\n",
       "    }\n",
       "\n",
       "    .dataframe tbody tr th {\n",
       "        vertical-align: top;\n",
       "    }\n",
       "\n",
       "    .dataframe thead th {\n",
       "        text-align: right;\n",
       "    }\n",
       "</style>\n",
       "<table border=\"1\" class=\"dataframe\">\n",
       "  <thead>\n",
       "    <tr style=\"text-align: right;\">\n",
       "      <th></th>\n",
       "      <th>0</th>\n",
       "      <th>1</th>\n",
       "      <th>2</th>\n",
       "      <th>3</th>\n",
       "      <th>4</th>\n",
       "    </tr>\n",
       "  </thead>\n",
       "  <tbody>\n",
       "    <tr>\n",
       "      <th>0</th>\n",
       "      <td>0.622222</td>\n",
       "      <td>1.000000</td>\n",
       "      <td>1.000000</td>\n",
       "      <td>1.000000</td>\n",
       "      <td>1.0</td>\n",
       "    </tr>\n",
       "    <tr>\n",
       "      <th>1</th>\n",
       "      <td>0.822222</td>\n",
       "      <td>0.980549</td>\n",
       "      <td>0.982419</td>\n",
       "      <td>0.914394</td>\n",
       "      <td>0.0</td>\n",
       "    </tr>\n",
       "    <tr>\n",
       "      <th>2</th>\n",
       "      <td>0.744444</td>\n",
       "      <td>0.898169</td>\n",
       "      <td>0.885373</td>\n",
       "      <td>0.839569</td>\n",
       "      <td>0.0</td>\n",
       "    </tr>\n",
       "    <tr>\n",
       "      <th>3</th>\n",
       "      <td>0.866667</td>\n",
       "      <td>0.893593</td>\n",
       "      <td>0.898734</td>\n",
       "      <td>0.812936</td>\n",
       "      <td>0.0</td>\n",
       "    </tr>\n",
       "    <tr>\n",
       "      <th>4</th>\n",
       "      <td>0.544444</td>\n",
       "      <td>0.887872</td>\n",
       "      <td>0.497665</td>\n",
       "      <td>0.485831</td>\n",
       "      <td>1.0</td>\n",
       "    </tr>\n",
       "    <tr>\n",
       "      <th>...</th>\n",
       "      <td>...</td>\n",
       "      <td>...</td>\n",
       "      <td>...</td>\n",
       "      <td>...</td>\n",
       "      <td>...</td>\n",
       "    </tr>\n",
       "    <tr>\n",
       "      <th>8548</th>\n",
       "      <td>0.725464</td>\n",
       "      <td>0.000000</td>\n",
       "      <td>0.497665</td>\n",
       "      <td>0.485831</td>\n",
       "      <td>1.0</td>\n",
       "    </tr>\n",
       "    <tr>\n",
       "      <th>8549</th>\n",
       "      <td>0.822222</td>\n",
       "      <td>0.000000</td>\n",
       "      <td>0.398734</td>\n",
       "      <td>0.384274</td>\n",
       "      <td>0.0</td>\n",
       "    </tr>\n",
       "    <tr>\n",
       "      <th>8550</th>\n",
       "      <td>0.800000</td>\n",
       "      <td>0.000000</td>\n",
       "      <td>0.464135</td>\n",
       "      <td>0.421687</td>\n",
       "      <td>1.0</td>\n",
       "    </tr>\n",
       "    <tr>\n",
       "      <th>8551</th>\n",
       "      <td>0.900000</td>\n",
       "      <td>0.000000</td>\n",
       "      <td>0.497665</td>\n",
       "      <td>0.485831</td>\n",
       "      <td>1.0</td>\n",
       "    </tr>\n",
       "    <tr>\n",
       "      <th>8552</th>\n",
       "      <td>0.688889</td>\n",
       "      <td>0.000000</td>\n",
       "      <td>0.497665</td>\n",
       "      <td>0.485831</td>\n",
       "      <td>1.0</td>\n",
       "    </tr>\n",
       "  </tbody>\n",
       "</table>\n",
       "<p>8553 rows × 5 columns</p>\n",
       "</div>"
      ],
      "text/plain": [
       "             0         1         2         3    4\n",
       "0     0.622222  1.000000  1.000000  1.000000  1.0\n",
       "1     0.822222  0.980549  0.982419  0.914394  0.0\n",
       "2     0.744444  0.898169  0.885373  0.839569  0.0\n",
       "3     0.866667  0.893593  0.898734  0.812936  0.0\n",
       "4     0.544444  0.887872  0.497665  0.485831  1.0\n",
       "...        ...       ...       ...       ...  ...\n",
       "8548  0.725464  0.000000  0.497665  0.485831  1.0\n",
       "8549  0.822222  0.000000  0.398734  0.384274  0.0\n",
       "8550  0.800000  0.000000  0.464135  0.421687  1.0\n",
       "8551  0.900000  0.000000  0.497665  0.485831  1.0\n",
       "8552  0.688889  0.000000  0.497665  0.485831  1.0\n",
       "\n",
       "[8553 rows x 5 columns]"
      ]
     },
     "execution_count": 136,
     "metadata": {},
     "output_type": "execute_result"
    }
   ],
   "source": [
    "X"
   ]
  },
  {
   "cell_type": "code",
   "execution_count": 137,
   "metadata": {},
   "outputs": [
    {
     "data": {
      "text/plain": [
       "Fide id               0\n",
       "Name                  0\n",
       "Federation            0\n",
       "Gender                0\n",
       "Year_of_birth       292\n",
       "Title              5435\n",
       "Standard_Rating       0\n",
       "Rapid_rating       4945\n",
       "Blitz_rating       5081\n",
       "Inactive_flag      2701\n",
       "dtype: int64"
      ]
     },
     "execution_count": 137,
     "metadata": {},
     "output_type": "execute_result"
    }
   ],
   "source": [
    "df.isnull().sum()"
   ]
  },
  {
   "cell_type": "code",
   "execution_count": 138,
   "metadata": {},
   "outputs": [
    {
     "name": "stdout",
     "output_type": "stream",
     "text": [
      "<class 'pandas.core.frame.DataFrame'>\n",
      "RangeIndex: 8553 entries, 0 to 8552\n",
      "Data columns (total 10 columns):\n",
      " #   Column           Non-Null Count  Dtype  \n",
      "---  ------           --------------  -----  \n",
      " 0   Fide id          8553 non-null   int64  \n",
      " 1   Name             8553 non-null   object \n",
      " 2   Federation       8553 non-null   object \n",
      " 3   Gender           8553 non-null   object \n",
      " 4   Year_of_birth    8261 non-null   float64\n",
      " 5   Title            3118 non-null   object \n",
      " 6   Standard_Rating  8553 non-null   int64  \n",
      " 7   Rapid_rating     3608 non-null   float64\n",
      " 8   Blitz_rating     3472 non-null   float64\n",
      " 9   Inactive_flag    5852 non-null   object \n",
      "dtypes: float64(3), int64(2), object(5)\n",
      "memory usage: 668.3+ KB\n"
     ]
    }
   ],
   "source": [
    "df.info()"
   ]
  },
  {
   "cell_type": "code",
   "execution_count": 139,
   "metadata": {},
   "outputs": [
    {
     "data": {
      "text/plain": [
       "array(['wi', nan], dtype=object)"
      ]
     },
     "execution_count": 139,
     "metadata": {},
     "output_type": "execute_result"
    }
   ],
   "source": [
    "df[\"Inactive_flag\"].unique()"
   ]
  },
  {
   "cell_type": "code",
   "execution_count": 140,
   "metadata": {},
   "outputs": [
    {
     "data": {
      "text/plain": [
       "array(['HUN', 'CHN', 'IND', 'RUS', 'UKR', 'LTU', 'GEO', 'KAZ', 'IRI',\n",
       "       'GER', 'SWE', 'BUL', 'TUR', 'GRE', 'AZE', 'FRA', 'ROU', 'USA',\n",
       "       'MGL', 'POL', 'BLR', 'QAT', 'ESP', 'ENG', 'INA', 'ARM', 'CZE',\n",
       "       'PER', 'SRB', 'NED', 'SCO', 'UZB', 'ITA', 'CUB', 'VIE', 'ECU',\n",
       "       'AUS', 'ARG', 'CRO', 'SVK', 'SGP', 'ISR', 'LUX', 'SLO', 'EST',\n",
       "       'CAN', 'LAT', 'AUT', 'SUI', 'MNC', 'MDA', 'BRA', 'BEL', 'COL',\n",
       "       'PHI', 'PAR', 'BRU', 'MEX', 'BIH', 'MAS', 'NOR', 'MNE', 'TKM',\n",
       "       'IRL', 'VEN', 'EGY', 'IRQ', 'FIN', 'BOL', 'DEN', 'MKD', 'KGZ',\n",
       "       'ESA', 'CHI', 'RSA', 'FID', 'UAE', 'LBN', 'MYA', 'ISL', 'BAN',\n",
       "       'POR', 'KSA', 'NAM', 'URU', 'ALG', 'WLS', 'PUR', 'ALB', 'KOR',\n",
       "       'TJK', 'SRI', 'JAM', 'ANG', 'NGR', 'BAR', 'BER', 'ZIM', 'BOT',\n",
       "       'JPN', 'DOM', 'CRC', 'SYR', 'GUA', 'SEY', 'JOR', 'NZL', 'MAR',\n",
       "       'MAC', 'TTO', 'NCA', 'ZAM', 'PAN', 'THA', 'GCI', 'AHO', 'HKG',\n",
       "       'MLT', 'HON', 'LBA', 'SUR', 'UGA', 'CPV', 'MAD'], dtype=object)"
      ]
     },
     "execution_count": 140,
     "metadata": {},
     "output_type": "execute_result"
    }
   ],
   "source": [
    "df[\"Federation\"].unique()"
   ]
  },
  {
   "cell_type": "code",
   "execution_count": null,
   "metadata": {},
   "outputs": [],
   "source": []
  }
 ],
 "metadata": {
  "kernelspec": {
   "display_name": "kaggle",
   "language": "python",
   "name": "python3"
  },
  "language_info": {
   "codemirror_mode": {
    "name": "ipython",
    "version": 3
   },
   "file_extension": ".py",
   "mimetype": "text/x-python",
   "name": "python",
   "nbconvert_exporter": "python",
   "pygments_lexer": "ipython3",
   "version": "3.9.6"
  }
 },
 "nbformat": 4,
 "nbformat_minor": 2
}
