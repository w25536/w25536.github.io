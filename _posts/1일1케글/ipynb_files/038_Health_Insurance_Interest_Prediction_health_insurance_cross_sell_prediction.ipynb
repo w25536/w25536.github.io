{
 "cells": [
  {
   "cell_type": "code",
   "execution_count": 538,
   "metadata": {},
   "outputs": [
    {
     "name": "stdout",
     "output_type": "stream",
     "text": [
      "Warning: Looks like you're using an outdated `kagglehub` version, please consider updating (latest version: 0.3.5)\n",
      "Path to dataset files: /Users/jeongho/.cache/kagglehub/datasets/anmolkumar/health-insurance-cross-sell-prediction/versions/1\n"
     ]
    }
   ],
   "source": [
    "import kagglehub\n",
    "\n",
    "# Download latest version\n",
    "path = kagglehub.dataset_download(\"anmolkumar/health-insurance-cross-sell-prediction\")\n",
    "\n",
    "print(\"Path to dataset files:\", path)"
   ]
  },
  {
   "cell_type": "code",
   "execution_count": 539,
   "metadata": {},
   "outputs": [],
   "source": [
    "import pandas as pd\n",
    "import numpy as np\n",
    "import matplotlib.pyplot as plt\n",
    "import seaborn as sns\n",
    "\n",
    "import tensorflow as tf\n",
    "\n",
    "import os\n",
    "\n",
    "from sklearn.preprocessing import MinMaxScaler\n",
    "from sklearn.model_selection import train_test_split"
   ]
  },
  {
   "cell_type": "code",
   "execution_count": 540,
   "metadata": {},
   "outputs": [],
   "source": [
    "train_df = pd.read_csv(os.path.join(path, \"train.csv\"))\n",
    "test_df = pd.read_csv(os.path.join(path, \"test.csv\"))\n",
    "sample_submission = pd.read_csv(os.path.join(path, \"sample_submission.csv\"))"
   ]
  },
  {
   "cell_type": "code",
   "execution_count": 541,
   "metadata": {},
   "outputs": [
    {
     "name": "stdout",
     "output_type": "stream",
     "text": [
      "(127037, 11)\n",
      "(381109, 12)\n"
     ]
    }
   ],
   "source": [
    "print(test_df.shape)\n",
    "print(train_df.shape)"
   ]
  },
  {
   "cell_type": "code",
   "execution_count": 542,
   "metadata": {},
   "outputs": [],
   "source": [
    "df = pd.concat([test_df, train_df], axis=0)"
   ]
  },
  {
   "cell_type": "code",
   "execution_count": 543,
   "metadata": {},
   "outputs": [],
   "source": [
    "def binary_encode(df, column, postive_label):\n",
    "    df = df.copy()\n",
    "    df.apply(lambda x: 1 if x == postive_label else 0)\n",
    "    return df\n",
    "\n",
    "\n",
    "def ordinal_encode(df, column, ordering):\n",
    "    df = df.copy()\n",
    "    df[column] = df[column].apply(lambda x: ordering.index(x))\n",
    "    return df\n",
    "\n",
    "\n",
    "def onehot_encode(df, column):\n",
    "    dummies = pd.get_dummies(df[column])\n",
    "    df = df.concat([dummies, df], axis=1)\n",
    "    df = df.drop(column, axis=1)\n",
    "    return df"
   ]
  },
  {
   "cell_type": "code",
   "execution_count": 544,
   "metadata": {},
   "outputs": [],
   "source": [
    "cat_cols = list(df.select_dtypes(\"object\").columns)"
   ]
  },
  {
   "cell_type": "code",
   "execution_count": 545,
   "metadata": {},
   "outputs": [
    {
     "name": "stdout",
     "output_type": "stream",
     "text": [
      "{'Gender': {'Gender': ['Male', 'Female']}, 'Vehicle_Age': {'Vehicle_Age': ['> 2 Years', '1-2 Year', '< 1 Year']}, 'Vehicle_Damage': {'Vehicle_Damage': ['Yes', 'No']}}\n"
     ]
    }
   ],
   "source": [
    "dict = {}\n",
    "\n",
    "for col in cat_cols:\n",
    "    dict[col] = {col: list(train_df[col].unique())}\n",
    "\n",
    "print(dict)"
   ]
  },
  {
   "cell_type": "code",
   "execution_count": 546,
   "metadata": {},
   "outputs": [],
   "source": [
    "def preprocess_input(df):\n",
    "\n",
    "    df = df.copy()\n",
    "    # nominal feature\n",
    "    df[\"Gender\"] = df[\"Gender\"].map({\"Male\": 1, \"Female\": 0})\n",
    "    df[\"Vehicle_Age\"] = df[\"Vehicle_Age\"].map(\n",
    "        {\"> 2 Years\": 2, \"1-2 Year\": 1, \"< 1 Year\": 0}\n",
    "    )\n",
    "    df[\"Vehicle_Damage\"] = df[\"Vehicle_Damage\"].map({\"Yes\": 1, \"No\": 0})\n",
    "\n",
    "    test_df = df.iloc[:127037]\n",
    "\n",
    "    test_ids = list(test_df[\"id\"].iloc[:127037])\n",
    "\n",
    "    df = df.drop([\"id\"], axis=1)\n",
    "\n",
    "    test_df = df.iloc[:127037]\n",
    "    train_df = df.iloc[127037:]\n",
    "\n",
    "    y = train_df[\"Response\"]\n",
    "    X = train_df.drop([\"Response\"], axis=1)\n",
    "    test_df = test_df.drop([\"Response\"], axis=1)\n",
    "\n",
    "    scaler = MinMaxScaler()\n",
    "    X_scaled = scaler.fit_transform(X)\n",
    "    test_scaled = scaler.fit_transform(test_df)\n",
    "\n",
    "    X = pd.DataFrame(X_scaled, columns=X.columns, index=X.index)\n",
    "    test_df = pd.DataFrame(test_scaled, columns=test_df.columns, index=test_df.index)\n",
    "\n",
    "    return X, y, test_df, test_ids"
   ]
  },
  {
   "cell_type": "code",
   "execution_count": 547,
   "metadata": {},
   "outputs": [],
   "source": [
    "X, y, test_df, test_ids = preprocess_input(df)"
   ]
  },
  {
   "cell_type": "code",
   "execution_count": 548,
   "metadata": {},
   "outputs": [],
   "source": [
    "X_train, X_test, y_train, y_test = train_test_split(X, y, train_size=0.7)"
   ]
  },
  {
   "cell_type": "code",
   "execution_count": 549,
   "metadata": {},
   "outputs": [
    {
     "data": {
      "text/plain": [
       "0.12256336113815208"
      ]
     },
     "execution_count": 549,
     "metadata": {},
     "output_type": "execute_result"
    }
   ],
   "source": [
    "y.sum() / len(y)"
   ]
  },
  {
   "cell_type": "code",
   "execution_count": 550,
   "metadata": {},
   "outputs": [
    {
     "data": {
      "text/plain": [
       "(381109, 10)"
      ]
     },
     "execution_count": 550,
     "metadata": {},
     "output_type": "execute_result"
    }
   ],
   "source": [
    "# X.plot(kind = 'box', figsize=(10, 10),  logy=True)\n",
    "X.shape"
   ]
  },
  {
   "cell_type": "code",
   "execution_count": 551,
   "metadata": {},
   "outputs": [],
   "source": [
    "inputs = tf.keras.Input(shape=(10,))  # X.shape 10 features\n",
    "x = tf.keras.layers.Dense(64, activation=\"relu\")(inputs)\n",
    "x = tf.keras.layers.Dense(64, activation=\"relu\")(x)\n",
    "outputs = tf.keras.layers.Dense(1, activation=\"sigmoid\")(x)\n",
    "\n",
    "model = tf.keras.Model(inputs=inputs, outputs=outputs)\n",
    "\n",
    "\n",
    "model.compile(\n",
    "    optimizer=\"adam\",\n",
    "    loss=\"binary_crossentropy\",\n",
    "    metrics=[tf.keras.metrics.AUC(name=\"auc\")],\n",
    ")\n",
    "\n",
    "batch_size = 64\n",
    "epochs = 25\n",
    "\n",
    "history = model.fit(\n",
    "    X_train,\n",
    "    y_train,\n",
    "    validation_split=0.2,\n",
    "    batch_size=batch_size,\n",
    "    epochs=epochs,\n",
    "    callbacks=[tf.keras.callbacks.ReduceLROnPlateau()],\n",
    "    verbose=0,\n",
    ")"
   ]
  },
  {
   "cell_type": "code",
   "execution_count": 552,
   "metadata": {},
   "outputs": [
    {
     "data": {
      "application/vnd.plotly.v1+json": {
       "config": {
        "plotlyServerURL": "https://plot.ly"
       },
       "data": [
        {
         "hovertemplate": "variable=loss<br>Epoch=%{x}<br>Loss=%{y}<extra></extra>",
         "legendgroup": "loss",
         "line": {
          "color": "#636efa",
          "dash": "solid"
         },
         "marker": {
          "symbol": "circle"
         },
         "mode": "lines",
         "name": "loss",
         "orientation": "v",
         "showlegend": true,
         "type": "scatter",
         "x": [
          0,
          1,
          2,
          3,
          4,
          5,
          6,
          7,
          8,
          9,
          10,
          11,
          12,
          13,
          14,
          15,
          16,
          17,
          18,
          19,
          20,
          21,
          22,
          23,
          24
         ],
         "xaxis": "x",
         "y": [
          0.27771756052970886,
          0.2715139091014862,
          0.2706911861896515,
          0.27022868394851685,
          0.26997020840644836,
          0.2697352468967438,
          0.26955410838127136,
          0.26950106024742126,
          0.26943108439445496,
          0.26935529708862305,
          0.2691863179206848,
          0.2691163122653961,
          0.26899275183677673,
          0.2689582109451294,
          0.2688126266002655,
          0.26880979537963867,
          0.2687915563583374,
          0.2687316834926605,
          0.26870471239089966,
          0.26866415143013,
          0.2685995101928711,
          0.2685297131538391,
          0.2684752345085144,
          0.268406480550766,
          0.268378347158432
         ],
         "yaxis": "y"
        },
        {
         "hovertemplate": "variable=val_loss<br>Epoch=%{x}<br>Loss=%{y}<extra></extra>",
         "legendgroup": "val_loss",
         "line": {
          "color": "#EF553B",
          "dash": "solid"
         },
         "marker": {
          "symbol": "circle"
         },
         "mode": "lines",
         "name": "val_loss",
         "orientation": "v",
         "showlegend": true,
         "type": "scatter",
         "x": [
          0,
          1,
          2,
          3,
          4,
          5,
          6,
          7,
          8,
          9,
          10,
          11,
          12,
          13,
          14,
          15,
          16,
          17,
          18,
          19,
          20,
          21,
          22,
          23,
          24
         ],
         "xaxis": "x",
         "y": [
          0.2723536789417267,
          0.267633855342865,
          0.2690978944301605,
          0.26687246561050415,
          0.26707586646080017,
          0.2661803960800171,
          0.26755955815315247,
          0.26660946011543274,
          0.2658107876777649,
          0.26643770933151245,
          0.266130656003952,
          0.26657772064208984,
          0.2658843696117401,
          0.26610973477363586,
          0.26539599895477295,
          0.2668399512767792,
          0.26535266637802124,
          0.2654404640197754,
          0.26547080278396606,
          0.2663869857788086,
          0.26526594161987305,
          0.26562172174453735,
          0.2653914988040924,
          0.266135036945343,
          0.2655886113643646
         ],
         "yaxis": "y"
        }
       ],
       "layout": {
        "legend": {
         "title": {
          "text": "variable"
         },
         "tracegroupgap": 0
        },
        "template": {
         "data": {
          "bar": [
           {
            "error_x": {
             "color": "#2a3f5f"
            },
            "error_y": {
             "color": "#2a3f5f"
            },
            "marker": {
             "line": {
              "color": "#E5ECF6",
              "width": 0.5
             },
             "pattern": {
              "fillmode": "overlay",
              "size": 10,
              "solidity": 0.2
             }
            },
            "type": "bar"
           }
          ],
          "barpolar": [
           {
            "marker": {
             "line": {
              "color": "#E5ECF6",
              "width": 0.5
             },
             "pattern": {
              "fillmode": "overlay",
              "size": 10,
              "solidity": 0.2
             }
            },
            "type": "barpolar"
           }
          ],
          "carpet": [
           {
            "aaxis": {
             "endlinecolor": "#2a3f5f",
             "gridcolor": "white",
             "linecolor": "white",
             "minorgridcolor": "white",
             "startlinecolor": "#2a3f5f"
            },
            "baxis": {
             "endlinecolor": "#2a3f5f",
             "gridcolor": "white",
             "linecolor": "white",
             "minorgridcolor": "white",
             "startlinecolor": "#2a3f5f"
            },
            "type": "carpet"
           }
          ],
          "choropleth": [
           {
            "colorbar": {
             "outlinewidth": 0,
             "ticks": ""
            },
            "type": "choropleth"
           }
          ],
          "contour": [
           {
            "colorbar": {
             "outlinewidth": 0,
             "ticks": ""
            },
            "colorscale": [
             [
              0,
              "#0d0887"
             ],
             [
              0.1111111111111111,
              "#46039f"
             ],
             [
              0.2222222222222222,
              "#7201a8"
             ],
             [
              0.3333333333333333,
              "#9c179e"
             ],
             [
              0.4444444444444444,
              "#bd3786"
             ],
             [
              0.5555555555555556,
              "#d8576b"
             ],
             [
              0.6666666666666666,
              "#ed7953"
             ],
             [
              0.7777777777777778,
              "#fb9f3a"
             ],
             [
              0.8888888888888888,
              "#fdca26"
             ],
             [
              1,
              "#f0f921"
             ]
            ],
            "type": "contour"
           }
          ],
          "contourcarpet": [
           {
            "colorbar": {
             "outlinewidth": 0,
             "ticks": ""
            },
            "type": "contourcarpet"
           }
          ],
          "heatmap": [
           {
            "colorbar": {
             "outlinewidth": 0,
             "ticks": ""
            },
            "colorscale": [
             [
              0,
              "#0d0887"
             ],
             [
              0.1111111111111111,
              "#46039f"
             ],
             [
              0.2222222222222222,
              "#7201a8"
             ],
             [
              0.3333333333333333,
              "#9c179e"
             ],
             [
              0.4444444444444444,
              "#bd3786"
             ],
             [
              0.5555555555555556,
              "#d8576b"
             ],
             [
              0.6666666666666666,
              "#ed7953"
             ],
             [
              0.7777777777777778,
              "#fb9f3a"
             ],
             [
              0.8888888888888888,
              "#fdca26"
             ],
             [
              1,
              "#f0f921"
             ]
            ],
            "type": "heatmap"
           }
          ],
          "heatmapgl": [
           {
            "colorbar": {
             "outlinewidth": 0,
             "ticks": ""
            },
            "colorscale": [
             [
              0,
              "#0d0887"
             ],
             [
              0.1111111111111111,
              "#46039f"
             ],
             [
              0.2222222222222222,
              "#7201a8"
             ],
             [
              0.3333333333333333,
              "#9c179e"
             ],
             [
              0.4444444444444444,
              "#bd3786"
             ],
             [
              0.5555555555555556,
              "#d8576b"
             ],
             [
              0.6666666666666666,
              "#ed7953"
             ],
             [
              0.7777777777777778,
              "#fb9f3a"
             ],
             [
              0.8888888888888888,
              "#fdca26"
             ],
             [
              1,
              "#f0f921"
             ]
            ],
            "type": "heatmapgl"
           }
          ],
          "histogram": [
           {
            "marker": {
             "pattern": {
              "fillmode": "overlay",
              "size": 10,
              "solidity": 0.2
             }
            },
            "type": "histogram"
           }
          ],
          "histogram2d": [
           {
            "colorbar": {
             "outlinewidth": 0,
             "ticks": ""
            },
            "colorscale": [
             [
              0,
              "#0d0887"
             ],
             [
              0.1111111111111111,
              "#46039f"
             ],
             [
              0.2222222222222222,
              "#7201a8"
             ],
             [
              0.3333333333333333,
              "#9c179e"
             ],
             [
              0.4444444444444444,
              "#bd3786"
             ],
             [
              0.5555555555555556,
              "#d8576b"
             ],
             [
              0.6666666666666666,
              "#ed7953"
             ],
             [
              0.7777777777777778,
              "#fb9f3a"
             ],
             [
              0.8888888888888888,
              "#fdca26"
             ],
             [
              1,
              "#f0f921"
             ]
            ],
            "type": "histogram2d"
           }
          ],
          "histogram2dcontour": [
           {
            "colorbar": {
             "outlinewidth": 0,
             "ticks": ""
            },
            "colorscale": [
             [
              0,
              "#0d0887"
             ],
             [
              0.1111111111111111,
              "#46039f"
             ],
             [
              0.2222222222222222,
              "#7201a8"
             ],
             [
              0.3333333333333333,
              "#9c179e"
             ],
             [
              0.4444444444444444,
              "#bd3786"
             ],
             [
              0.5555555555555556,
              "#d8576b"
             ],
             [
              0.6666666666666666,
              "#ed7953"
             ],
             [
              0.7777777777777778,
              "#fb9f3a"
             ],
             [
              0.8888888888888888,
              "#fdca26"
             ],
             [
              1,
              "#f0f921"
             ]
            ],
            "type": "histogram2dcontour"
           }
          ],
          "mesh3d": [
           {
            "colorbar": {
             "outlinewidth": 0,
             "ticks": ""
            },
            "type": "mesh3d"
           }
          ],
          "parcoords": [
           {
            "line": {
             "colorbar": {
              "outlinewidth": 0,
              "ticks": ""
             }
            },
            "type": "parcoords"
           }
          ],
          "pie": [
           {
            "automargin": true,
            "type": "pie"
           }
          ],
          "scatter": [
           {
            "fillpattern": {
             "fillmode": "overlay",
             "size": 10,
             "solidity": 0.2
            },
            "type": "scatter"
           }
          ],
          "scatter3d": [
           {
            "line": {
             "colorbar": {
              "outlinewidth": 0,
              "ticks": ""
             }
            },
            "marker": {
             "colorbar": {
              "outlinewidth": 0,
              "ticks": ""
             }
            },
            "type": "scatter3d"
           }
          ],
          "scattercarpet": [
           {
            "marker": {
             "colorbar": {
              "outlinewidth": 0,
              "ticks": ""
             }
            },
            "type": "scattercarpet"
           }
          ],
          "scattergeo": [
           {
            "marker": {
             "colorbar": {
              "outlinewidth": 0,
              "ticks": ""
             }
            },
            "type": "scattergeo"
           }
          ],
          "scattergl": [
           {
            "marker": {
             "colorbar": {
              "outlinewidth": 0,
              "ticks": ""
             }
            },
            "type": "scattergl"
           }
          ],
          "scattermapbox": [
           {
            "marker": {
             "colorbar": {
              "outlinewidth": 0,
              "ticks": ""
             }
            },
            "type": "scattermapbox"
           }
          ],
          "scatterpolar": [
           {
            "marker": {
             "colorbar": {
              "outlinewidth": 0,
              "ticks": ""
             }
            },
            "type": "scatterpolar"
           }
          ],
          "scatterpolargl": [
           {
            "marker": {
             "colorbar": {
              "outlinewidth": 0,
              "ticks": ""
             }
            },
            "type": "scatterpolargl"
           }
          ],
          "scatterternary": [
           {
            "marker": {
             "colorbar": {
              "outlinewidth": 0,
              "ticks": ""
             }
            },
            "type": "scatterternary"
           }
          ],
          "surface": [
           {
            "colorbar": {
             "outlinewidth": 0,
             "ticks": ""
            },
            "colorscale": [
             [
              0,
              "#0d0887"
             ],
             [
              0.1111111111111111,
              "#46039f"
             ],
             [
              0.2222222222222222,
              "#7201a8"
             ],
             [
              0.3333333333333333,
              "#9c179e"
             ],
             [
              0.4444444444444444,
              "#bd3786"
             ],
             [
              0.5555555555555556,
              "#d8576b"
             ],
             [
              0.6666666666666666,
              "#ed7953"
             ],
             [
              0.7777777777777778,
              "#fb9f3a"
             ],
             [
              0.8888888888888888,
              "#fdca26"
             ],
             [
              1,
              "#f0f921"
             ]
            ],
            "type": "surface"
           }
          ],
          "table": [
           {
            "cells": {
             "fill": {
              "color": "#EBF0F8"
             },
             "line": {
              "color": "white"
             }
            },
            "header": {
             "fill": {
              "color": "#C8D4E3"
             },
             "line": {
              "color": "white"
             }
            },
            "type": "table"
           }
          ]
         },
         "layout": {
          "annotationdefaults": {
           "arrowcolor": "#2a3f5f",
           "arrowhead": 0,
           "arrowwidth": 1
          },
          "autotypenumbers": "strict",
          "coloraxis": {
           "colorbar": {
            "outlinewidth": 0,
            "ticks": ""
           }
          },
          "colorscale": {
           "diverging": [
            [
             0,
             "#8e0152"
            ],
            [
             0.1,
             "#c51b7d"
            ],
            [
             0.2,
             "#de77ae"
            ],
            [
             0.3,
             "#f1b6da"
            ],
            [
             0.4,
             "#fde0ef"
            ],
            [
             0.5,
             "#f7f7f7"
            ],
            [
             0.6,
             "#e6f5d0"
            ],
            [
             0.7,
             "#b8e186"
            ],
            [
             0.8,
             "#7fbc41"
            ],
            [
             0.9,
             "#4d9221"
            ],
            [
             1,
             "#276419"
            ]
           ],
           "sequential": [
            [
             0,
             "#0d0887"
            ],
            [
             0.1111111111111111,
             "#46039f"
            ],
            [
             0.2222222222222222,
             "#7201a8"
            ],
            [
             0.3333333333333333,
             "#9c179e"
            ],
            [
             0.4444444444444444,
             "#bd3786"
            ],
            [
             0.5555555555555556,
             "#d8576b"
            ],
            [
             0.6666666666666666,
             "#ed7953"
            ],
            [
             0.7777777777777778,
             "#fb9f3a"
            ],
            [
             0.8888888888888888,
             "#fdca26"
            ],
            [
             1,
             "#f0f921"
            ]
           ],
           "sequentialminus": [
            [
             0,
             "#0d0887"
            ],
            [
             0.1111111111111111,
             "#46039f"
            ],
            [
             0.2222222222222222,
             "#7201a8"
            ],
            [
             0.3333333333333333,
             "#9c179e"
            ],
            [
             0.4444444444444444,
             "#bd3786"
            ],
            [
             0.5555555555555556,
             "#d8576b"
            ],
            [
             0.6666666666666666,
             "#ed7953"
            ],
            [
             0.7777777777777778,
             "#fb9f3a"
            ],
            [
             0.8888888888888888,
             "#fdca26"
            ],
            [
             1,
             "#f0f921"
            ]
           ]
          },
          "colorway": [
           "#636efa",
           "#EF553B",
           "#00cc96",
           "#ab63fa",
           "#FFA15A",
           "#19d3f3",
           "#FF6692",
           "#B6E880",
           "#FF97FF",
           "#FECB52"
          ],
          "font": {
           "color": "#2a3f5f"
          },
          "geo": {
           "bgcolor": "white",
           "lakecolor": "white",
           "landcolor": "#E5ECF6",
           "showlakes": true,
           "showland": true,
           "subunitcolor": "white"
          },
          "hoverlabel": {
           "align": "left"
          },
          "hovermode": "closest",
          "mapbox": {
           "style": "light"
          },
          "paper_bgcolor": "white",
          "plot_bgcolor": "#E5ECF6",
          "polar": {
           "angularaxis": {
            "gridcolor": "white",
            "linecolor": "white",
            "ticks": ""
           },
           "bgcolor": "#E5ECF6",
           "radialaxis": {
            "gridcolor": "white",
            "linecolor": "white",
            "ticks": ""
           }
          },
          "scene": {
           "xaxis": {
            "backgroundcolor": "#E5ECF6",
            "gridcolor": "white",
            "gridwidth": 2,
            "linecolor": "white",
            "showbackground": true,
            "ticks": "",
            "zerolinecolor": "white"
           },
           "yaxis": {
            "backgroundcolor": "#E5ECF6",
            "gridcolor": "white",
            "gridwidth": 2,
            "linecolor": "white",
            "showbackground": true,
            "ticks": "",
            "zerolinecolor": "white"
           },
           "zaxis": {
            "backgroundcolor": "#E5ECF6",
            "gridcolor": "white",
            "gridwidth": 2,
            "linecolor": "white",
            "showbackground": true,
            "ticks": "",
            "zerolinecolor": "white"
           }
          },
          "shapedefaults": {
           "line": {
            "color": "#2a3f5f"
           }
          },
          "ternary": {
           "aaxis": {
            "gridcolor": "white",
            "linecolor": "white",
            "ticks": ""
           },
           "baxis": {
            "gridcolor": "white",
            "linecolor": "white",
            "ticks": ""
           },
           "bgcolor": "#E5ECF6",
           "caxis": {
            "gridcolor": "white",
            "linecolor": "white",
            "ticks": ""
           }
          },
          "title": {
           "x": 0.05
          },
          "xaxis": {
           "automargin": true,
           "gridcolor": "white",
           "linecolor": "white",
           "ticks": "",
           "title": {
            "standoff": 15
           },
           "zerolinecolor": "white",
           "zerolinewidth": 2
          },
          "yaxis": {
           "automargin": true,
           "gridcolor": "white",
           "linecolor": "white",
           "ticks": "",
           "title": {
            "standoff": 15
           },
           "zerolinecolor": "white",
           "zerolinewidth": 2
          }
         }
        },
        "title": {
         "text": "Training History"
        },
        "xaxis": {
         "anchor": "y",
         "domain": [
          0,
          1
         ],
         "title": {
          "text": "Epoch"
         }
        },
        "yaxis": {
         "anchor": "x",
         "domain": [
          0,
          1
         ],
         "title": {
          "text": "Loss"
         }
        }
       }
      }
     },
     "metadata": {},
     "output_type": "display_data"
    }
   ],
   "source": [
    "import plotly.express as px\n",
    "\n",
    "fig = px.line(\n",
    "    history.history,\n",
    "    y=[\"loss\", \"val_loss\"],\n",
    "    labels={\"index\": \"Epoch\", \"value\": \"Loss\"},\n",
    "    title=\"Training History\",\n",
    ")\n",
    "fig.show()"
   ]
  },
  {
   "cell_type": "code",
   "execution_count": 553,
   "metadata": {},
   "outputs": [
    {
     "data": {
      "image/png": "[encoded data removed]",
      "text/plain": [
       "<Figure size 1400x1000 with 1 Axes>"
      ]
     },
     "metadata": {},
     "output_type": "display_data"
    }
   ],
   "source": [
    "plt.figure(figsize=(14, 10))\n",
    "epochs_range = range(1, epochs + 1)\n",
    "train_loss = history.history[\"loss\"]\n",
    "val_loss = history.history[\"val_loss\"]\n",
    "\n",
    "plt.plot(epochs_range, train_loss, label=\"Training Loss\")\n",
    "plt.plot(epochs_range, val_loss, label=\"Validation Loss\")\n",
    "\n",
    "plt.title(\"Training and Validation Loss\")\n",
    "plt.xlabel(\"Epoch\")\n",
    "plt.ylabel(\"Loss\")\n",
    "plt.legend()\n",
    "\n",
    "plt.show()"
   ]
  },
  {
   "cell_type": "code",
   "execution_count": 554,
   "metadata": {},
   "outputs": [
    {
     "data": {
      "text/plain": [
       "20"
      ]
     },
     "execution_count": 554,
     "metadata": {},
     "output_type": "execute_result"
    }
   ],
   "source": [
    "np.argmin(val_loss)"
   ]
  },
  {
   "cell_type": "code",
   "execution_count": 555,
   "metadata": {},
   "outputs": [
    {
     "name": "stdout",
     "output_type": "stream",
     "text": [
      "\u001b[1m3573/3573\u001b[0m \u001b[32m━━━━━━━━━━━━━━━━━━━━\u001b[0m\u001b[37m\u001b[0m \u001b[1m2s\u001b[0m 578us/step - auc: 0.8529 - loss: 0.2685\n"
     ]
    },
    {
     "data": {
      "text/plain": [
       "[0.26833873987197876, 0.8527363538742065]"
      ]
     },
     "execution_count": 555,
     "metadata": {},
     "output_type": "execute_result"
    }
   ],
   "source": [
    "model.evaluate(X_test, y_test)"
   ]
  },
  {
   "cell_type": "code",
   "execution_count": 556,
   "metadata": {},
   "outputs": [
    {
     "name": "stdout",
     "output_type": "stream",
     "text": [
      "\u001b[1m   1/3970\u001b[0m \u001b[37m━━━━━━━━━━━━━━━━━━━━\u001b[0m \u001b[1m1:47\u001b[0m 27ms/step"
     ]
    },
    {
     "name": "stdout",
     "output_type": "stream",
     "text": [
      "\u001b[1m3970/3970\u001b[0m \u001b[32m━━━━━━━━━━━━━━━━━━━━\u001b[0m\u001b[37m\u001b[0m \u001b[1m1s\u001b[0m 307us/step\n"
     ]
    }
   ],
   "source": [
    "preds = model.predict(test_df)"
   ]
  },
  {
   "cell_type": "code",
   "execution_count": 557,
   "metadata": {},
   "outputs": [
    {
     "data": {
      "text/plain": [
       "array([[8.3298240e-05],\n",
       "       [2.7377096e-01],\n",
       "       [2.9221359e-01],\n",
       "       ...,\n",
       "       [9.5657604e-05],\n",
       "       [2.0201905e-05],\n",
       "       [5.1094493e-04]], dtype=float32)"
      ]
     },
     "execution_count": 557,
     "metadata": {},
     "output_type": "execute_result"
    }
   ],
   "source": [
    "preds"
   ]
  },
  {
   "cell_type": "code",
   "execution_count": 558,
   "metadata": {},
   "outputs": [
    {
     "data": {
      "text/plain": [
       "array([[False],\n",
       "       [False],\n",
       "       [False],\n",
       "       ...,\n",
       "       [False],\n",
       "       [False],\n",
       "       [False]])"
      ]
     },
     "execution_count": 558,
     "metadata": {},
     "output_type": "execute_result"
    }
   ],
   "source": [
    "preds >= 0.5"
   ]
  },
  {
   "cell_type": "code",
   "execution_count": 559,
   "metadata": {},
   "outputs": [
    {
     "data": {
      "text/plain": [
       "[381110,\n",
       " 381111,\n",
       " 381112,\n",
       " 381113,\n",
       " 381114,\n",
       " 381115,\n",
       " 381116,\n",
       " 381117,\n",
       " 381118,\n",
       " 381119,\n",
       " 381120,\n",
       " 381121,\n",
       " 381122,\n",
       " 381123,\n",
       " 381124,\n",
       " 381125,\n",
       " 381126,\n",
       " 381127,\n",
       " 381128,\n",
       " 381129,\n",
       " 381130,\n",
       " 381131,\n",
       " 381132,\n",
       " 381133,\n",
       " 381134,\n",
       " 381135,\n",
       " 381136,\n",
       " 381137,\n",
       " 381138,\n",
       " 381139,\n",
       " 381140,\n",
       " 381141,\n",
       " 381142,\n",
       " 381143,\n",
       " 381144,\n",
       " 381145,\n",
       " 381146,\n",
       " 381147,\n",
       " 381148,\n",
       " 381149,\n",
       " 381150,\n",
       " 381151,\n",
       " 381152,\n",
       " 381153,\n",
       " 381154,\n",
       " 381155,\n",
       " 381156,\n",
       " 381157,\n",
       " 381158,\n",
       " 381159,\n",
       " 381160,\n",
       " 381161,\n",
       " 381162,\n",
       " 381163,\n",
       " 381164,\n",
       " 381165,\n",
       " 381166,\n",
       " 381167,\n",
       " 381168,\n",
       " 381169,\n",
       " 381170,\n",
       " 381171,\n",
       " 381172,\n",
       " 381173,\n",
       " 381174,\n",
       " 381175,\n",
       " 381176,\n",
       " 381177,\n",
       " 381178,\n",
       " 381179,\n",
       " 381180,\n",
       " 381181,\n",
       " 381182,\n",
       " 381183,\n",
       " 381184,\n",
       " 381185,\n",
       " 381186,\n",
       " 381187,\n",
       " 381188,\n",
       " 381189,\n",
       " 381190,\n",
       " 381191,\n",
       " 381192,\n",
       " 381193,\n",
       " 381194,\n",
       " 381195,\n",
       " 381196,\n",
       " 381197,\n",
       " 381198,\n",
       " 381199,\n",
       " 381200,\n",
       " 381201,\n",
       " 381202,\n",
       " 381203,\n",
       " 381204,\n",
       " 381205,\n",
       " 381206,\n",
       " 381207,\n",
       " 381208,\n",
       " 381209,\n",
       " 381210,\n",
       " 381211,\n",
       " 381212,\n",
       " 381213,\n",
       " 381214,\n",
       " 381215,\n",
       " 381216,\n",
       " 381217,\n",
       " 381218,\n",
       " 381219,\n",
       " 381220,\n",
       " 381221,\n",
       " 381222,\n",
       " 381223,\n",
       " 381224,\n",
       " 381225,\n",
       " 381226,\n",
       " 381227,\n",
       " 381228,\n",
       " 381229,\n",
       " 381230,\n",
       " 381231,\n",
       " 381232,\n",
       " 381233,\n",
       " 381234,\n",
       " 381235,\n",
       " 381236,\n",
       " 381237,\n",
       " 381238,\n",
       " 381239,\n",
       " 381240,\n",
       " 381241,\n",
       " 381242,\n",
       " 381243,\n",
       " 381244,\n",
       " 381245,\n",
       " 381246,\n",
       " 381247,\n",
       " 381248,\n",
       " 381249,\n",
       " 381250,\n",
       " 381251,\n",
       " 381252,\n",
       " 381253,\n",
       " 381254,\n",
       " 381255,\n",
       " 381256,\n",
       " 381257,\n",
       " 381258,\n",
       " 381259,\n",
       " 381260,\n",
       " 381261,\n",
       " 381262,\n",
       " 381263,\n",
       " 381264,\n",
       " 381265,\n",
       " 381266,\n",
       " 381267,\n",
       " 381268,\n",
       " 381269,\n",
       " 381270,\n",
       " 381271,\n",
       " 381272,\n",
       " 381273,\n",
       " 381274,\n",
       " 381275,\n",
       " 381276,\n",
       " 381277,\n",
       " 381278,\n",
       " 381279,\n",
       " 381280,\n",
       " 381281,\n",
       " 381282,\n",
       " 381283,\n",
       " 381284,\n",
       " 381285,\n",
       " 381286,\n",
       " 381287,\n",
       " 381288,\n",
       " 381289,\n",
       " 381290,\n",
       " 381291,\n",
       " 381292,\n",
       " 381293,\n",
       " 381294,\n",
       " 381295,\n",
       " 381296,\n",
       " 381297,\n",
       " 381298,\n",
       " 381299,\n",
       " 381300,\n",
       " 381301,\n",
       " 381302,\n",
       " 381303,\n",
       " 381304,\n",
       " 381305,\n",
       " 381306,\n",
       " 381307,\n",
       " 381308,\n",
       " 381309,\n",
       " 381310,\n",
       " 381311,\n",
       " 381312,\n",
       " 381313,\n",
       " 381314,\n",
       " 381315,\n",
       " 381316,\n",
       " 381317,\n",
       " 381318,\n",
       " 381319,\n",
       " 381320,\n",
       " 381321,\n",
       " 381322,\n",
       " 381323,\n",
       " 381324,\n",
       " 381325,\n",
       " 381326,\n",
       " 381327,\n",
       " 381328,\n",
       " 381329,\n",
       " 381330,\n",
       " 381331,\n",
       " 381332,\n",
       " 381333,\n",
       " 381334,\n",
       " 381335,\n",
       " 381336,\n",
       " 381337,\n",
       " 381338,\n",
       " 381339,\n",
       " 381340,\n",
       " 381341,\n",
       " 381342,\n",
       " 381343,\n",
       " 381344,\n",
       " 381345,\n",
       " 381346,\n",
       " 381347,\n",
       " 381348,\n",
       " 381349,\n",
       " 381350,\n",
       " 381351,\n",
       " 381352,\n",
       " 381353,\n",
       " 381354,\n",
       " 381355,\n",
       " 381356,\n",
       " 381357,\n",
       " 381358,\n",
       " 381359,\n",
       " 381360,\n",
       " 381361,\n",
       " 381362,\n",
       " 381363,\n",
       " 381364,\n",
       " 381365,\n",
       " 381366,\n",
       " 381367,\n",
       " 381368,\n",
       " 381369,\n",
       " 381370,\n",
       " 381371,\n",
       " 381372,\n",
       " 381373,\n",
       " 381374,\n",
       " 381375,\n",
       " 381376,\n",
       " 381377,\n",
       " 381378,\n",
       " 381379,\n",
       " 381380,\n",
       " 381381,\n",
       " 381382,\n",
       " 381383,\n",
       " 381384,\n",
       " 381385,\n",
       " 381386,\n",
       " 381387,\n",
       " 381388,\n",
       " 381389,\n",
       " 381390,\n",
       " 381391,\n",
       " 381392,\n",
       " 381393,\n",
       " 381394,\n",
       " 381395,\n",
       " 381396,\n",
       " 381397,\n",
       " 381398,\n",
       " 381399,\n",
       " 381400,\n",
       " 381401,\n",
       " 381402,\n",
       " 381403,\n",
       " 381404,\n",
       " 381405,\n",
       " 381406,\n",
       " 381407,\n",
       " 381408,\n",
       " 381409,\n",
       " 381410,\n",
       " 381411,\n",
       " 381412,\n",
       " 381413,\n",
       " 381414,\n",
       " 381415,\n",
       " 381416,\n",
       " 381417,\n",
       " 381418,\n",
       " 381419,\n",
       " 381420,\n",
       " 381421,\n",
       " 381422,\n",
       " 381423,\n",
       " 381424,\n",
       " 381425,\n",
       " 381426,\n",
       " 381427,\n",
       " 381428,\n",
       " 381429,\n",
       " 381430,\n",
       " 381431,\n",
       " 381432,\n",
       " 381433,\n",
       " 381434,\n",
       " 381435,\n",
       " 381436,\n",
       " 381437,\n",
       " 381438,\n",
       " 381439,\n",
       " 381440,\n",
       " 381441,\n",
       " 381442,\n",
       " 381443,\n",
       " 381444,\n",
       " 381445,\n",
       " 381446,\n",
       " 381447,\n",
       " 381448,\n",
       " 381449,\n",
       " 381450,\n",
       " 381451,\n",
       " 381452,\n",
       " 381453,\n",
       " 381454,\n",
       " 381455,\n",
       " 381456,\n",
       " 381457,\n",
       " 381458,\n",
       " 381459,\n",
       " 381460,\n",
       " 381461,\n",
       " 381462,\n",
       " 381463,\n",
       " 381464,\n",
       " 381465,\n",
       " 381466,\n",
       " 381467,\n",
       " 381468,\n",
       " 381469,\n",
       " 381470,\n",
       " 381471,\n",
       " 381472,\n",
       " 381473,\n",
       " 381474,\n",
       " 381475,\n",
       " 381476,\n",
       " 381477,\n",
       " 381478,\n",
       " 381479,\n",
       " 381480,\n",
       " 381481,\n",
       " 381482,\n",
       " 381483,\n",
       " 381484,\n",
       " 381485,\n",
       " 381486,\n",
       " 381487,\n",
       " 381488,\n",
       " 381489,\n",
       " 381490,\n",
       " 381491,\n",
       " 381492,\n",
       " 381493,\n",
       " 381494,\n",
       " 381495,\n",
       " 381496,\n",
       " 381497,\n",
       " 381498,\n",
       " 381499,\n",
       " 381500,\n",
       " 381501,\n",
       " 381502,\n",
       " 381503,\n",
       " 381504,\n",
       " 381505,\n",
       " 381506,\n",
       " 381507,\n",
       " 381508,\n",
       " 381509,\n",
       " 381510,\n",
       " 381511,\n",
       " 381512,\n",
       " 381513,\n",
       " 381514,\n",
       " 381515,\n",
       " 381516,\n",
       " 381517,\n",
       " 381518,\n",
       " 381519,\n",
       " 381520,\n",
       " 381521,\n",
       " 381522,\n",
       " 381523,\n",
       " 381524,\n",
       " 381525,\n",
       " 381526,\n",
       " 381527,\n",
       " 381528,\n",
       " 381529,\n",
       " 381530,\n",
       " 381531,\n",
       " 381532,\n",
       " 381533,\n",
       " 381534,\n",
       " 381535,\n",
       " 381536,\n",
       " 381537,\n",
       " 381538,\n",
       " 381539,\n",
       " 381540,\n",
       " 381541,\n",
       " 381542,\n",
       " 381543,\n",
       " 381544,\n",
       " 381545,\n",
       " 381546,\n",
       " 381547,\n",
       " 381548,\n",
       " 381549,\n",
       " 381550,\n",
       " 381551,\n",
       " 381552,\n",
       " 381553,\n",
       " 381554,\n",
       " 381555,\n",
       " 381556,\n",
       " 381557,\n",
       " 381558,\n",
       " 381559,\n",
       " 381560,\n",
       " 381561,\n",
       " 381562,\n",
       " 381563,\n",
       " 381564,\n",
       " 381565,\n",
       " 381566,\n",
       " 381567,\n",
       " 381568,\n",
       " 381569,\n",
       " 381570,\n",
       " 381571,\n",
       " 381572,\n",
       " 381573,\n",
       " 381574,\n",
       " 381575,\n",
       " 381576,\n",
       " 381577,\n",
       " 381578,\n",
       " 381579,\n",
       " 381580,\n",
       " 381581,\n",
       " 381582,\n",
       " 381583,\n",
       " 381584,\n",
       " 381585,\n",
       " 381586,\n",
       " 381587,\n",
       " 381588,\n",
       " 381589,\n",
       " 381590,\n",
       " 381591,\n",
       " 381592,\n",
       " 381593,\n",
       " 381594,\n",
       " 381595,\n",
       " 381596,\n",
       " 381597,\n",
       " 381598,\n",
       " 381599,\n",
       " 381600,\n",
       " 381601,\n",
       " 381602,\n",
       " 381603,\n",
       " 381604,\n",
       " 381605,\n",
       " 381606,\n",
       " 381607,\n",
       " 381608,\n",
       " 381609,\n",
       " 381610,\n",
       " 381611,\n",
       " 381612,\n",
       " 381613,\n",
       " 381614,\n",
       " 381615,\n",
       " 381616,\n",
       " 381617,\n",
       " 381618,\n",
       " 381619,\n",
       " 381620,\n",
       " 381621,\n",
       " 381622,\n",
       " 381623,\n",
       " 381624,\n",
       " 381625,\n",
       " 381626,\n",
       " 381627,\n",
       " 381628,\n",
       " 381629,\n",
       " 381630,\n",
       " 381631,\n",
       " 381632,\n",
       " 381633,\n",
       " 381634,\n",
       " 381635,\n",
       " 381636,\n",
       " 381637,\n",
       " 381638,\n",
       " 381639,\n",
       " 381640,\n",
       " 381641,\n",
       " 381642,\n",
       " 381643,\n",
       " 381644,\n",
       " 381645,\n",
       " 381646,\n",
       " 381647,\n",
       " 381648,\n",
       " 381649,\n",
       " 381650,\n",
       " 381651,\n",
       " 381652,\n",
       " 381653,\n",
       " 381654,\n",
       " 381655,\n",
       " 381656,\n",
       " 381657,\n",
       " 381658,\n",
       " 381659,\n",
       " 381660,\n",
       " 381661,\n",
       " 381662,\n",
       " 381663,\n",
       " 381664,\n",
       " 381665,\n",
       " 381666,\n",
       " 381667,\n",
       " 381668,\n",
       " 381669,\n",
       " 381670,\n",
       " 381671,\n",
       " 381672,\n",
       " 381673,\n",
       " 381674,\n",
       " 381675,\n",
       " 381676,\n",
       " 381677,\n",
       " 381678,\n",
       " 381679,\n",
       " 381680,\n",
       " 381681,\n",
       " 381682,\n",
       " 381683,\n",
       " 381684,\n",
       " 381685,\n",
       " 381686,\n",
       " 381687,\n",
       " 381688,\n",
       " 381689,\n",
       " 381690,\n",
       " 381691,\n",
       " 381692,\n",
       " 381693,\n",
       " 381694,\n",
       " 381695,\n",
       " 381696,\n",
       " 381697,\n",
       " 381698,\n",
       " 381699,\n",
       " 381700,\n",
       " 381701,\n",
       " 381702,\n",
       " 381703,\n",
       " 381704,\n",
       " 381705,\n",
       " 381706,\n",
       " 381707,\n",
       " 381708,\n",
       " 381709,\n",
       " 381710,\n",
       " 381711,\n",
       " 381712,\n",
       " 381713,\n",
       " 381714,\n",
       " 381715,\n",
       " 381716,\n",
       " 381717,\n",
       " 381718,\n",
       " 381719,\n",
       " 381720,\n",
       " 381721,\n",
       " 381722,\n",
       " 381723,\n",
       " 381724,\n",
       " 381725,\n",
       " 381726,\n",
       " 381727,\n",
       " 381728,\n",
       " 381729,\n",
       " 381730,\n",
       " 381731,\n",
       " 381732,\n",
       " 381733,\n",
       " 381734,\n",
       " 381735,\n",
       " 381736,\n",
       " 381737,\n",
       " 381738,\n",
       " 381739,\n",
       " 381740,\n",
       " 381741,\n",
       " 381742,\n",
       " 381743,\n",
       " 381744,\n",
       " 381745,\n",
       " 381746,\n",
       " 381747,\n",
       " 381748,\n",
       " 381749,\n",
       " 381750,\n",
       " 381751,\n",
       " 381752,\n",
       " 381753,\n",
       " 381754,\n",
       " 381755,\n",
       " 381756,\n",
       " 381757,\n",
       " 381758,\n",
       " 381759,\n",
       " 381760,\n",
       " 381761,\n",
       " 381762,\n",
       " 381763,\n",
       " 381764,\n",
       " 381765,\n",
       " 381766,\n",
       " 381767,\n",
       " 381768,\n",
       " 381769,\n",
       " 381770,\n",
       " 381771,\n",
       " 381772,\n",
       " 381773,\n",
       " 381774,\n",
       " 381775,\n",
       " 381776,\n",
       " 381777,\n",
       " 381778,\n",
       " 381779,\n",
       " 381780,\n",
       " 381781,\n",
       " 381782,\n",
       " 381783,\n",
       " 381784,\n",
       " 381785,\n",
       " 381786,\n",
       " 381787,\n",
       " 381788,\n",
       " 381789,\n",
       " 381790,\n",
       " 381791,\n",
       " 381792,\n",
       " 381793,\n",
       " 381794,\n",
       " 381795,\n",
       " 381796,\n",
       " 381797,\n",
       " 381798,\n",
       " 381799,\n",
       " 381800,\n",
       " 381801,\n",
       " 381802,\n",
       " 381803,\n",
       " 381804,\n",
       " 381805,\n",
       " 381806,\n",
       " 381807,\n",
       " 381808,\n",
       " 381809,\n",
       " 381810,\n",
       " 381811,\n",
       " 381812,\n",
       " 381813,\n",
       " 381814,\n",
       " 381815,\n",
       " 381816,\n",
       " 381817,\n",
       " 381818,\n",
       " 381819,\n",
       " 381820,\n",
       " 381821,\n",
       " 381822,\n",
       " 381823,\n",
       " 381824,\n",
       " 381825,\n",
       " 381826,\n",
       " 381827,\n",
       " 381828,\n",
       " 381829,\n",
       " 381830,\n",
       " 381831,\n",
       " 381832,\n",
       " 381833,\n",
       " 381834,\n",
       " 381835,\n",
       " 381836,\n",
       " 381837,\n",
       " 381838,\n",
       " 381839,\n",
       " 381840,\n",
       " 381841,\n",
       " 381842,\n",
       " 381843,\n",
       " 381844,\n",
       " 381845,\n",
       " 381846,\n",
       " 381847,\n",
       " 381848,\n",
       " 381849,\n",
       " 381850,\n",
       " 381851,\n",
       " 381852,\n",
       " 381853,\n",
       " 381854,\n",
       " 381855,\n",
       " 381856,\n",
       " 381857,\n",
       " 381858,\n",
       " 381859,\n",
       " 381860,\n",
       " 381861,\n",
       " 381862,\n",
       " 381863,\n",
       " 381864,\n",
       " 381865,\n",
       " 381866,\n",
       " 381867,\n",
       " 381868,\n",
       " 381869,\n",
       " 381870,\n",
       " 381871,\n",
       " 381872,\n",
       " 381873,\n",
       " 381874,\n",
       " 381875,\n",
       " 381876,\n",
       " 381877,\n",
       " 381878,\n",
       " 381879,\n",
       " 381880,\n",
       " 381881,\n",
       " 381882,\n",
       " 381883,\n",
       " 381884,\n",
       " 381885,\n",
       " 381886,\n",
       " 381887,\n",
       " 381888,\n",
       " 381889,\n",
       " 381890,\n",
       " 381891,\n",
       " 381892,\n",
       " 381893,\n",
       " 381894,\n",
       " 381895,\n",
       " 381896,\n",
       " 381897,\n",
       " 381898,\n",
       " 381899,\n",
       " 381900,\n",
       " 381901,\n",
       " 381902,\n",
       " 381903,\n",
       " 381904,\n",
       " 381905,\n",
       " 381906,\n",
       " 381907,\n",
       " 381908,\n",
       " 381909,\n",
       " 381910,\n",
       " 381911,\n",
       " 381912,\n",
       " 381913,\n",
       " 381914,\n",
       " 381915,\n",
       " 381916,\n",
       " 381917,\n",
       " 381918,\n",
       " 381919,\n",
       " 381920,\n",
       " 381921,\n",
       " 381922,\n",
       " 381923,\n",
       " 381924,\n",
       " 381925,\n",
       " 381926,\n",
       " 381927,\n",
       " 381928,\n",
       " 381929,\n",
       " 381930,\n",
       " 381931,\n",
       " 381932,\n",
       " 381933,\n",
       " 381934,\n",
       " 381935,\n",
       " 381936,\n",
       " 381937,\n",
       " 381938,\n",
       " 381939,\n",
       " 381940,\n",
       " 381941,\n",
       " 381942,\n",
       " 381943,\n",
       " 381944,\n",
       " 381945,\n",
       " 381946,\n",
       " 381947,\n",
       " 381948,\n",
       " 381949,\n",
       " 381950,\n",
       " 381951,\n",
       " 381952,\n",
       " 381953,\n",
       " 381954,\n",
       " 381955,\n",
       " 381956,\n",
       " 381957,\n",
       " 381958,\n",
       " 381959,\n",
       " 381960,\n",
       " 381961,\n",
       " 381962,\n",
       " 381963,\n",
       " 381964,\n",
       " 381965,\n",
       " 381966,\n",
       " 381967,\n",
       " 381968,\n",
       " 381969,\n",
       " 381970,\n",
       " 381971,\n",
       " 381972,\n",
       " 381973,\n",
       " 381974,\n",
       " 381975,\n",
       " 381976,\n",
       " 381977,\n",
       " 381978,\n",
       " 381979,\n",
       " 381980,\n",
       " 381981,\n",
       " 381982,\n",
       " 381983,\n",
       " 381984,\n",
       " 381985,\n",
       " 381986,\n",
       " 381987,\n",
       " 381988,\n",
       " 381989,\n",
       " 381990,\n",
       " 381991,\n",
       " 381992,\n",
       " 381993,\n",
       " 381994,\n",
       " 381995,\n",
       " 381996,\n",
       " 381997,\n",
       " 381998,\n",
       " 381999,\n",
       " 382000,\n",
       " 382001,\n",
       " 382002,\n",
       " 382003,\n",
       " 382004,\n",
       " 382005,\n",
       " 382006,\n",
       " 382007,\n",
       " 382008,\n",
       " 382009,\n",
       " 382010,\n",
       " 382011,\n",
       " 382012,\n",
       " 382013,\n",
       " 382014,\n",
       " 382015,\n",
       " 382016,\n",
       " 382017,\n",
       " 382018,\n",
       " 382019,\n",
       " 382020,\n",
       " 382021,\n",
       " 382022,\n",
       " 382023,\n",
       " 382024,\n",
       " 382025,\n",
       " 382026,\n",
       " 382027,\n",
       " 382028,\n",
       " 382029,\n",
       " 382030,\n",
       " 382031,\n",
       " 382032,\n",
       " 382033,\n",
       " 382034,\n",
       " 382035,\n",
       " 382036,\n",
       " 382037,\n",
       " 382038,\n",
       " 382039,\n",
       " 382040,\n",
       " 382041,\n",
       " 382042,\n",
       " 382043,\n",
       " 382044,\n",
       " 382045,\n",
       " 382046,\n",
       " 382047,\n",
       " 382048,\n",
       " 382049,\n",
       " 382050,\n",
       " 382051,\n",
       " 382052,\n",
       " 382053,\n",
       " 382054,\n",
       " 382055,\n",
       " 382056,\n",
       " 382057,\n",
       " 382058,\n",
       " 382059,\n",
       " 382060,\n",
       " 382061,\n",
       " 382062,\n",
       " 382063,\n",
       " 382064,\n",
       " 382065,\n",
       " 382066,\n",
       " 382067,\n",
       " 382068,\n",
       " 382069,\n",
       " 382070,\n",
       " 382071,\n",
       " 382072,\n",
       " 382073,\n",
       " 382074,\n",
       " 382075,\n",
       " 382076,\n",
       " 382077,\n",
       " 382078,\n",
       " 382079,\n",
       " 382080,\n",
       " 382081,\n",
       " 382082,\n",
       " 382083,\n",
       " 382084,\n",
       " 382085,\n",
       " 382086,\n",
       " 382087,\n",
       " 382088,\n",
       " 382089,\n",
       " 382090,\n",
       " 382091,\n",
       " 382092,\n",
       " 382093,\n",
       " 382094,\n",
       " 382095,\n",
       " 382096,\n",
       " 382097,\n",
       " 382098,\n",
       " 382099,\n",
       " 382100,\n",
       " 382101,\n",
       " 382102,\n",
       " 382103,\n",
       " 382104,\n",
       " 382105,\n",
       " 382106,\n",
       " 382107,\n",
       " 382108,\n",
       " 382109,\n",
       " ...]"
      ]
     },
     "execution_count": 559,
     "metadata": {},
     "output_type": "execute_result"
    }
   ],
   "source": [
    "preds = list(map(lambda x: int(x[0]), preds >= 0.5))\n",
    "\n",
    "test_ids"
   ]
  },
  {
   "cell_type": "code",
   "execution_count": 560,
   "metadata": {},
   "outputs": [],
   "source": [
    "submission_df = pd.concat([pd.Series(test_ids), pd.Series(preds)], axis=1)\n",
    "submission_columns = [\"id\", \"Response\"]"
   ]
  },
  {
   "cell_type": "code",
   "execution_count": 561,
   "metadata": {},
   "outputs": [
    {
     "data": {
      "text/html": [
       "<div>\n",
       "<style scoped>\n",
       "    .dataframe tbody tr th:only-of-type {\n",
       "        vertical-align: middle;\n",
       "    }\n",
       "\n",
       "    .dataframe tbody tr th {\n",
       "        vertical-align: top;\n",
       "    }\n",
       "\n",
       "    .dataframe thead th {\n",
       "        text-align: right;\n",
       "    }\n",
       "</style>\n",
       "<table border=\"1\" class=\"dataframe\">\n",
       "  <thead>\n",
       "    <tr style=\"text-align: right;\">\n",
       "      <th></th>\n",
       "      <th>id</th>\n",
       "      <th>Response</th>\n",
       "    </tr>\n",
       "  </thead>\n",
       "  <tbody>\n",
       "    <tr>\n",
       "      <th>0</th>\n",
       "      <td>NaN</td>\n",
       "      <td>NaN</td>\n",
       "    </tr>\n",
       "    <tr>\n",
       "      <th>1</th>\n",
       "      <td>NaN</td>\n",
       "      <td>NaN</td>\n",
       "    </tr>\n",
       "    <tr>\n",
       "      <th>2</th>\n",
       "      <td>NaN</td>\n",
       "      <td>NaN</td>\n",
       "    </tr>\n",
       "    <tr>\n",
       "      <th>3</th>\n",
       "      <td>NaN</td>\n",
       "      <td>NaN</td>\n",
       "    </tr>\n",
       "    <tr>\n",
       "      <th>4</th>\n",
       "      <td>NaN</td>\n",
       "      <td>NaN</td>\n",
       "    </tr>\n",
       "    <tr>\n",
       "      <th>...</th>\n",
       "      <td>...</td>\n",
       "      <td>...</td>\n",
       "    </tr>\n",
       "    <tr>\n",
       "      <th>127032</th>\n",
       "      <td>NaN</td>\n",
       "      <td>NaN</td>\n",
       "    </tr>\n",
       "    <tr>\n",
       "      <th>127033</th>\n",
       "      <td>NaN</td>\n",
       "      <td>NaN</td>\n",
       "    </tr>\n",
       "    <tr>\n",
       "      <th>127034</th>\n",
       "      <td>NaN</td>\n",
       "      <td>NaN</td>\n",
       "    </tr>\n",
       "    <tr>\n",
       "      <th>127035</th>\n",
       "      <td>NaN</td>\n",
       "      <td>NaN</td>\n",
       "    </tr>\n",
       "    <tr>\n",
       "      <th>127036</th>\n",
       "      <td>NaN</td>\n",
       "      <td>NaN</td>\n",
       "    </tr>\n",
       "  </tbody>\n",
       "</table>\n",
       "<p>127037 rows × 2 columns</p>\n",
       "</div>"
      ],
      "text/plain": [
       "        id  Response\n",
       "0      NaN       NaN\n",
       "1      NaN       NaN\n",
       "2      NaN       NaN\n",
       "3      NaN       NaN\n",
       "4      NaN       NaN\n",
       "...     ..       ...\n",
       "127032 NaN       NaN\n",
       "127033 NaN       NaN\n",
       "127034 NaN       NaN\n",
       "127035 NaN       NaN\n",
       "127036 NaN       NaN\n",
       "\n",
       "[127037 rows x 2 columns]"
      ]
     },
     "execution_count": 561,
     "metadata": {},
     "output_type": "execute_result"
    }
   ],
   "source": [
    "submission = pd.DataFrame(submission_df, columns=submission_columns)\n",
    "submission"
   ]
  },
  {
   "cell_type": "code",
   "execution_count": 563,
   "metadata": {},
   "outputs": [
    {
     "data": {
      "text/plain": [
       "True"
      ]
     },
     "execution_count": 563,
     "metadata": {},
     "output_type": "execute_result"
    }
   ],
   "source": [
    "sample_submission.shape == submission.shape"
   ]
  },
  {
   "cell_type": "code",
   "execution_count": 564,
   "metadata": {},
   "outputs": [],
   "source": [
    "submission.to_csv(\"./submission.csv\")"
   ]
  }
 ],
 "metadata": {
  "kernelspec": {
   "display_name": "kaggle",
   "language": "python",
   "name": "python3"
  },
  "language_info": {
   "codemirror_mode": {
    "name": "ipython",
    "version": 3
   },
   "file_extension": ".py",
   "mimetype": "text/x-python",
   "name": "python",
   "nbconvert_exporter": "python",
   "pygments_lexer": "ipython3",
   "version": "3.9.6"
  }
 },
 "nbformat": 4,
 "nbformat_minor": 2
}
