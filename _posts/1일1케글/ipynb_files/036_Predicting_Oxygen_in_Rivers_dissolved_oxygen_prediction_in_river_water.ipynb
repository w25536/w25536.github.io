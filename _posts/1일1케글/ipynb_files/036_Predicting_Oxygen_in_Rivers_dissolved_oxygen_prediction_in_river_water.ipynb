{
 "cells": [
  {
   "cell_type": "code",
   "execution_count": 270,
   "metadata": {},
   "outputs": [
    {
     "name": "stdout",
     "output_type": "stream",
     "text": [
      "Path to dataset files: /Users/jeongho/.cache/kagglehub/datasets/vbmokin/dissolved-oxygen-prediction-in-river-water/versions/1\n"
     ]
    }
   ],
   "source": [
    "import kagglehub\n",
    "\n",
    "# Download latest version\n",
    "path = kagglehub.dataset_download(\"vbmokin/dissolved-oxygen-prediction-in-river-water\")\n",
    "\n",
    "print(\"Path to dataset files:\", path)"
   ]
  },
  {
   "cell_type": "code",
   "execution_count": 271,
   "metadata": {},
   "outputs": [],
   "source": [
    "import pandas as pd\n",
    "import numpy as np\n",
    "import matplotlib.pyplot as plt\n",
    "import seaborn as sns\n",
    "\n",
    "import os\n",
    "\n",
    "df = pd.read_csv(os.path.join(path, \"train.csv\"))"
   ]
  },
  {
   "cell_type": "code",
   "execution_count": 272,
   "metadata": {},
   "outputs": [
    {
     "data": {
      "text/plain": [
       "Id          0\n",
       "target      0\n",
       "O2_1        2\n",
       "O2_2        2\n",
       "O2_3      115\n",
       "O2_4      116\n",
       "O2_5      114\n",
       "O2_6      110\n",
       "O2_7      110\n",
       "NH4_1       2\n",
       "NH4_2       2\n",
       "NH4_3     115\n",
       "NH4_4     116\n",
       "NH4_5     114\n",
       "NH4_6     110\n",
       "NH4_7     110\n",
       "NO2_1       2\n",
       "NO2_2       2\n",
       "NO2_3     115\n",
       "NO2_4     116\n",
       "NO2_5     114\n",
       "NO2_6     110\n",
       "NO2_7     110\n",
       "NO3_1       2\n",
       "NO3_2       2\n",
       "NO3_3     115\n",
       "NO3_4     116\n",
       "NO3_5     114\n",
       "NO3_6     110\n",
       "NO3_7     110\n",
       "BOD5_1      2\n",
       "BOD5_2      2\n",
       "BOD5_3    115\n",
       "BOD5_4    116\n",
       "BOD5_5    114\n",
       "BOD5_6    110\n",
       "BOD5_7    110\n",
       "dtype: int64"
      ]
     },
     "execution_count": 272,
     "metadata": {},
     "output_type": "execute_result"
    }
   ],
   "source": [
    "df.isna().sum()"
   ]
  },
  {
   "cell_type": "code",
   "execution_count": 273,
   "metadata": {},
   "outputs": [],
   "source": [
    "null_columns = list(df.columns[(df.isna().sum() > 100)])\n",
    "\n",
    "df1 = df.drop(null_columns, axis=1)"
   ]
  },
  {
   "cell_type": "code",
   "execution_count": 274,
   "metadata": {},
   "outputs": [
    {
     "data": {
      "text/plain": [
       "Id        0\n",
       "target    0\n",
       "O2_1      2\n",
       "O2_2      2\n",
       "NH4_1     2\n",
       "NH4_2     2\n",
       "NO2_1     2\n",
       "NO2_2     2\n",
       "NO3_1     2\n",
       "NO3_2     2\n",
       "BOD5_1    2\n",
       "BOD5_2    2\n",
       "dtype: int64"
      ]
     },
     "execution_count": 274,
     "metadata": {},
     "output_type": "execute_result"
    }
   ],
   "source": [
    "df1.isna().sum()"
   ]
  },
  {
   "cell_type": "code",
   "execution_count": 275,
   "metadata": {},
   "outputs": [
    {
     "data": {
      "text/plain": [
       "'\\n   Col1  Col2  Col3  Col4\\n0   1    NaN   3    NaN    <- Row 1 has nulls\\n1   4     5    6     7\\n2   8    NaN   10   NaN    <- Row 2 has nulls\\n3   11   NaN   13   NaN    <- Row 3 has nulls\\n\\n'"
      ]
     },
     "execution_count": 275,
     "metadata": {},
     "output_type": "execute_result"
    }
   ],
   "source": [
    "(df1.isna().sum(axis=0) != 0).sum()\n",
    "\n",
    "\"\"\"\n",
    "   Col1  Col2  Col3  Col4\n",
    "0   1    NaN   3    NaN    <- Row 1 has nulls\n",
    "1   4     5    6     7\n",
    "2   8    NaN   10   NaN    <- Row 2 has nulls\n",
    "3   11   NaN   13   NaN    <- Row 3 has nulls\n",
    "\n",
    "\"\"\""
   ]
  },
  {
   "cell_type": "code",
   "execution_count": 276,
   "metadata": {},
   "outputs": [
    {
     "data": {
      "text/plain": [
       "3"
      ]
     },
     "execution_count": 276,
     "metadata": {},
     "output_type": "execute_result"
    }
   ],
   "source": [
    "(df1.isna().sum(axis=1) != 0).sum()"
   ]
  },
  {
   "cell_type": "code",
   "execution_count": 277,
   "metadata": {},
   "outputs": [],
   "source": [
    "null_columns = list(df1.columns[df1.isna().sum() > 100])"
   ]
  },
  {
   "cell_type": "code",
   "execution_count": 278,
   "metadata": {},
   "outputs": [],
   "source": [
    "df2 = df1.drop(null_columns, axis=1)"
   ]
  },
  {
   "cell_type": "code",
   "execution_count": 279,
   "metadata": {},
   "outputs": [
    {
     "data": {
      "text/plain": [
       "Id        0\n",
       "target    0\n",
       "O2_1      2\n",
       "O2_2      2\n",
       "NH4_1     2\n",
       "NH4_2     2\n",
       "NO2_1     2\n",
       "NO2_2     2\n",
       "NO3_1     2\n",
       "NO3_2     2\n",
       "BOD5_1    2\n",
       "BOD5_2    2\n",
       "dtype: int64"
      ]
     },
     "execution_count": 279,
     "metadata": {},
     "output_type": "execute_result"
    }
   ],
   "source": [
    "df2.isna().sum()"
   ]
  },
  {
   "cell_type": "code",
   "execution_count": 280,
   "metadata": {},
   "outputs": [
    {
     "data": {
      "text/plain": [
       "10"
      ]
     },
     "execution_count": 280,
     "metadata": {},
     "output_type": "execute_result"
    }
   ],
   "source": [
    "(df2.isna().sum(axis=1) != 0).sum()\n",
    "(df2.isna().sum(axis=0) != 0).sum()"
   ]
  },
  {
   "cell_type": "code",
   "execution_count": 281,
   "metadata": {},
   "outputs": [
    {
     "name": "stdout",
     "output_type": "stream",
     "text": [
      "Number of rows containing null values: 3\n",
      "Number of columns containing null values: 10\n"
     ]
    }
   ],
   "source": [
    "print(f\"Number of rows containing null values: {(df2.isna().sum(axis=1) != 0).sum()}\")\n",
    "print(\n",
    "    f\"Number of columns containing null values: {(df2.isna().sum(axis=0) != 0).sum()}\"\n",
    ")"
   ]
  },
  {
   "cell_type": "code",
   "execution_count": 282,
   "metadata": {},
   "outputs": [],
   "source": [
    "df3 = df2.dropna(axis=0)"
   ]
  },
  {
   "cell_type": "code",
   "execution_count": 283,
   "metadata": {},
   "outputs": [
    {
     "data": {
      "text/plain": [
       "Id        0\n",
       "target    0\n",
       "O2_1      0\n",
       "O2_2      0\n",
       "NH4_1     0\n",
       "NH4_2     0\n",
       "NO2_1     0\n",
       "NO2_2     0\n",
       "NO3_1     0\n",
       "NO3_2     0\n",
       "BOD5_1    0\n",
       "BOD5_2    0\n",
       "dtype: int64"
      ]
     },
     "execution_count": 283,
     "metadata": {},
     "output_type": "execute_result"
    }
   ],
   "source": [
    "df3.isna().sum()"
   ]
  },
  {
   "cell_type": "code",
   "execution_count": 284,
   "metadata": {},
   "outputs": [],
   "source": [
    "df4 = df3.drop([\"Id\"], axis=1)"
   ]
  },
  {
   "cell_type": "code",
   "execution_count": 285,
   "metadata": {},
   "outputs": [],
   "source": [
    "y = df4[\"target\"]\n",
    "X = df4.drop([\"target\"], axis=1)"
   ]
  },
  {
   "cell_type": "code",
   "execution_count": 286,
   "metadata": {},
   "outputs": [
    {
     "data": {
      "text/html": [
       "<div>\n",
       "<style scoped>\n",
       "    .dataframe tbody tr th:only-of-type {\n",
       "        vertical-align: middle;\n",
       "    }\n",
       "\n",
       "    .dataframe tbody tr th {\n",
       "        vertical-align: top;\n",
       "    }\n",
       "\n",
       "    .dataframe thead th {\n",
       "        text-align: right;\n",
       "    }\n",
       "</style>\n",
       "<table border=\"1\" class=\"dataframe\">\n",
       "  <thead>\n",
       "    <tr style=\"text-align: right;\">\n",
       "      <th></th>\n",
       "      <th>O2_1</th>\n",
       "      <th>O2_2</th>\n",
       "      <th>NH4_1</th>\n",
       "      <th>NH4_2</th>\n",
       "      <th>NO2_1</th>\n",
       "      <th>NO2_2</th>\n",
       "      <th>NO3_1</th>\n",
       "      <th>NO3_2</th>\n",
       "      <th>BOD5_1</th>\n",
       "      <th>BOD5_2</th>\n",
       "    </tr>\n",
       "  </thead>\n",
       "  <tbody>\n",
       "    <tr>\n",
       "      <th>0</th>\n",
       "      <td>9.875</td>\n",
       "      <td>9.20</td>\n",
       "      <td>0.690</td>\n",
       "      <td>1.040</td>\n",
       "      <td>0.0940</td>\n",
       "      <td>0.0990</td>\n",
       "      <td>1.58</td>\n",
       "      <td>1.825</td>\n",
       "      <td>4.80</td>\n",
       "      <td>5.850</td>\n",
       "    </tr>\n",
       "    <tr>\n",
       "      <th>1</th>\n",
       "      <td>10.300</td>\n",
       "      <td>10.75</td>\n",
       "      <td>0.710</td>\n",
       "      <td>0.725</td>\n",
       "      <td>0.0585</td>\n",
       "      <td>0.0515</td>\n",
       "      <td>1.21</td>\n",
       "      <td>0.905</td>\n",
       "      <td>5.88</td>\n",
       "      <td>6.835</td>\n",
       "    </tr>\n",
       "    <tr>\n",
       "      <th>2</th>\n",
       "      <td>8.290</td>\n",
       "      <td>7.90</td>\n",
       "      <td>2.210</td>\n",
       "      <td>2.210</td>\n",
       "      <td>0.1000</td>\n",
       "      <td>0.1100</td>\n",
       "      <td>1.34</td>\n",
       "      <td>1.250</td>\n",
       "      <td>3.20</td>\n",
       "      <td>2.700</td>\n",
       "    </tr>\n",
       "    <tr>\n",
       "      <th>3</th>\n",
       "      <td>8.820</td>\n",
       "      <td>6.80</td>\n",
       "      <td>0.595</td>\n",
       "      <td>0.675</td>\n",
       "      <td>0.0460</td>\n",
       "      <td>0.0535</td>\n",
       "      <td>0.59</td>\n",
       "      <td>0.790</td>\n",
       "      <td>7.70</td>\n",
       "      <td>7.055</td>\n",
       "    </tr>\n",
       "    <tr>\n",
       "      <th>4</th>\n",
       "      <td>6.000</td>\n",
       "      <td>6.50</td>\n",
       "      <td>0.600</td>\n",
       "      <td>0.900</td>\n",
       "      <td>0.1800</td>\n",
       "      <td>0.3400</td>\n",
       "      <td>1.36</td>\n",
       "      <td>1.820</td>\n",
       "      <td>5.50</td>\n",
       "      <td>5.300</td>\n",
       "    </tr>\n",
       "    <tr>\n",
       "      <th>...</th>\n",
       "      <td>...</td>\n",
       "      <td>...</td>\n",
       "      <td>...</td>\n",
       "      <td>...</td>\n",
       "      <td>...</td>\n",
       "      <td>...</td>\n",
       "      <td>...</td>\n",
       "      <td>...</td>\n",
       "      <td>...</td>\n",
       "      <td>...</td>\n",
       "    </tr>\n",
       "    <tr>\n",
       "      <th>142</th>\n",
       "      <td>7.700</td>\n",
       "      <td>7.50</td>\n",
       "      <td>0.380</td>\n",
       "      <td>1.900</td>\n",
       "      <td>0.6200</td>\n",
       "      <td>0.0640</td>\n",
       "      <td>2.80</td>\n",
       "      <td>3.330</td>\n",
       "      <td>5.00</td>\n",
       "      <td>5.800</td>\n",
       "    </tr>\n",
       "    <tr>\n",
       "      <th>143</th>\n",
       "      <td>6.300</td>\n",
       "      <td>5.65</td>\n",
       "      <td>0.370</td>\n",
       "      <td>0.500</td>\n",
       "      <td>0.6900</td>\n",
       "      <td>0.9500</td>\n",
       "      <td>4.37</td>\n",
       "      <td>3.160</td>\n",
       "      <td>8.00</td>\n",
       "      <td>8.000</td>\n",
       "    </tr>\n",
       "    <tr>\n",
       "      <th>144</th>\n",
       "      <td>8.600</td>\n",
       "      <td>11.00</td>\n",
       "      <td>2.400</td>\n",
       "      <td>3.600</td>\n",
       "      <td>0.1500</td>\n",
       "      <td>0.1400</td>\n",
       "      <td>0.53</td>\n",
       "      <td>3.000</td>\n",
       "      <td>6.80</td>\n",
       "      <td>7.200</td>\n",
       "    </tr>\n",
       "    <tr>\n",
       "      <th>145</th>\n",
       "      <td>9.600</td>\n",
       "      <td>14.10</td>\n",
       "      <td>0.310</td>\n",
       "      <td>0.500</td>\n",
       "      <td>0.2100</td>\n",
       "      <td>0.0800</td>\n",
       "      <td>3.10</td>\n",
       "      <td>3.500</td>\n",
       "      <td>5.20</td>\n",
       "      <td>7.800</td>\n",
       "    </tr>\n",
       "    <tr>\n",
       "      <th>146</th>\n",
       "      <td>6.500</td>\n",
       "      <td>7.70</td>\n",
       "      <td>0.190</td>\n",
       "      <td>0.260</td>\n",
       "      <td>0.1300</td>\n",
       "      <td>0.0720</td>\n",
       "      <td>0.00</td>\n",
       "      <td>0.000</td>\n",
       "      <td>3.40</td>\n",
       "      <td>4.100</td>\n",
       "    </tr>\n",
       "  </tbody>\n",
       "</table>\n",
       "<p>144 rows × 10 columns</p>\n",
       "</div>"
      ],
      "text/plain": [
       "       O2_1   O2_2  NH4_1  NH4_2   NO2_1   NO2_2  NO3_1  NO3_2  BOD5_1  BOD5_2\n",
       "0     9.875   9.20  0.690  1.040  0.0940  0.0990   1.58  1.825    4.80   5.850\n",
       "1    10.300  10.75  0.710  0.725  0.0585  0.0515   1.21  0.905    5.88   6.835\n",
       "2     8.290   7.90  2.210  2.210  0.1000  0.1100   1.34  1.250    3.20   2.700\n",
       "3     8.820   6.80  0.595  0.675  0.0460  0.0535   0.59  0.790    7.70   7.055\n",
       "4     6.000   6.50  0.600  0.900  0.1800  0.3400   1.36  1.820    5.50   5.300\n",
       "..      ...    ...    ...    ...     ...     ...    ...    ...     ...     ...\n",
       "142   7.700   7.50  0.380  1.900  0.6200  0.0640   2.80  3.330    5.00   5.800\n",
       "143   6.300   5.65  0.370  0.500  0.6900  0.9500   4.37  3.160    8.00   8.000\n",
       "144   8.600  11.00  2.400  3.600  0.1500  0.1400   0.53  3.000    6.80   7.200\n",
       "145   9.600  14.10  0.310  0.500  0.2100  0.0800   3.10  3.500    5.20   7.800\n",
       "146   6.500   7.70  0.190  0.260  0.1300  0.0720   0.00  0.000    3.40   4.100\n",
       "\n",
       "[144 rows x 10 columns]"
      ]
     },
     "execution_count": 286,
     "metadata": {},
     "output_type": "execute_result"
    }
   ],
   "source": [
    "X"
   ]
  },
  {
   "cell_type": "code",
   "execution_count": 287,
   "metadata": {},
   "outputs": [
    {
     "data": {
      "text/html": [
       "<div>\n",
       "<style scoped>\n",
       "    .dataframe tbody tr th:only-of-type {\n",
       "        vertical-align: middle;\n",
       "    }\n",
       "\n",
       "    .dataframe tbody tr th {\n",
       "        vertical-align: top;\n",
       "    }\n",
       "\n",
       "    .dataframe thead th {\n",
       "        text-align: right;\n",
       "    }\n",
       "</style>\n",
       "<table border=\"1\" class=\"dataframe\">\n",
       "  <thead>\n",
       "    <tr style=\"text-align: right;\">\n",
       "      <th></th>\n",
       "      <th>O2_1</th>\n",
       "      <th>O2_2</th>\n",
       "      <th>NH4_1</th>\n",
       "      <th>NH4_2</th>\n",
       "      <th>NO2_1</th>\n",
       "      <th>NO2_2</th>\n",
       "      <th>NO3_1</th>\n",
       "      <th>NO3_2</th>\n",
       "      <th>BOD5_1</th>\n",
       "      <th>BOD5_2</th>\n",
       "    </tr>\n",
       "  </thead>\n",
       "  <tbody>\n",
       "    <tr>\n",
       "      <th>0</th>\n",
       "      <td>0.425462</td>\n",
       "      <td>0.197201</td>\n",
       "      <td>0.582635</td>\n",
       "      <td>0.971205</td>\n",
       "      <td>0.269592</td>\n",
       "      <td>0.319885</td>\n",
       "      <td>-0.440337</td>\n",
       "      <td>-0.428021</td>\n",
       "      <td>0.006209</td>\n",
       "      <td>0.522629</td>\n",
       "    </tr>\n",
       "    <tr>\n",
       "      <th>1</th>\n",
       "      <td>0.544547</td>\n",
       "      <td>0.663001</td>\n",
       "      <td>0.623522</td>\n",
       "      <td>0.501471</td>\n",
       "      <td>-0.401798</td>\n",
       "      <td>-0.598370</td>\n",
       "      <td>-0.696229</td>\n",
       "      <td>-1.095671</td>\n",
       "      <td>0.513850</td>\n",
       "      <td>0.967304</td>\n",
       "    </tr>\n",
       "    <tr>\n",
       "      <th>2</th>\n",
       "      <td>-0.072976</td>\n",
       "      <td>-0.262286</td>\n",
       "      <td>1.997515</td>\n",
       "      <td>1.810066</td>\n",
       "      <td>0.362592</td>\n",
       "      <td>0.483744</td>\n",
       "      <td>-0.601366</td>\n",
       "      <td>-0.816648</td>\n",
       "      <td>-0.847650</td>\n",
       "      <td>-1.148793</td>\n",
       "    </tr>\n",
       "    <tr>\n",
       "      <th>3</th>\n",
       "      <td>0.104262</td>\n",
       "      <td>-0.717024</td>\n",
       "      <td>0.370143</td>\n",
       "      <td>0.407296</td>\n",
       "      <td>-0.697743</td>\n",
       "      <td>-0.551446</td>\n",
       "      <td>-1.251361</td>\n",
       "      <td>-1.198934</td>\n",
       "      <td>1.282423</td>\n",
       "      <td>1.063045</td>\n",
       "    </tr>\n",
       "    <tr>\n",
       "      <th>4</th>\n",
       "      <td>-1.006411</td>\n",
       "      <td>-0.854164</td>\n",
       "      <td>0.382142</td>\n",
       "      <td>0.785270</td>\n",
       "      <td>1.221232</td>\n",
       "      <td>1.972354</td>\n",
       "      <td>-0.587279</td>\n",
       "      <td>-0.431078</td>\n",
       "      <td>0.340347</td>\n",
       "      <td>0.261508</td>\n",
       "    </tr>\n",
       "    <tr>\n",
       "      <th>...</th>\n",
       "      <td>...</td>\n",
       "      <td>...</td>\n",
       "      <td>...</td>\n",
       "      <td>...</td>\n",
       "      <td>...</td>\n",
       "      <td>...</td>\n",
       "      <td>...</td>\n",
       "      <td>...</td>\n",
       "      <td>...</td>\n",
       "      <td>...</td>\n",
       "    </tr>\n",
       "    <tr>\n",
       "      <th>139</th>\n",
       "      <td>-0.284981</td>\n",
       "      <td>-0.419650</td>\n",
       "      <td>-0.255041</td>\n",
       "      <td>1.664881</td>\n",
       "      <td>2.120797</td>\n",
       "      <td>-0.318377</td>\n",
       "      <td>0.185812</td>\n",
       "      <td>0.324063</td>\n",
       "      <td>0.103738</td>\n",
       "      <td>0.499299</td>\n",
       "    </tr>\n",
       "    <tr>\n",
       "      <th>140</th>\n",
       "      <td>-0.864859</td>\n",
       "      <td>-1.280426</td>\n",
       "      <td>-0.290372</td>\n",
       "      <td>0.017883</td>\n",
       "      <td>2.137578</td>\n",
       "      <td>2.338861</td>\n",
       "      <td>0.728598</td>\n",
       "      <td>0.252238</td>\n",
       "      <td>1.400704</td>\n",
       "      <td>1.461286</td>\n",
       "    </tr>\n",
       "    <tr>\n",
       "      <th>141</th>\n",
       "      <td>0.032105</td>\n",
       "      <td>0.731384</td>\n",
       "      <td>2.067546</td>\n",
       "      <td>2.187739</td>\n",
       "      <td>0.968061</td>\n",
       "      <td>0.860436</td>\n",
       "      <td>-1.317192</td>\n",
       "      <td>0.182167</td>\n",
       "      <td>0.914148</td>\n",
       "      <td>1.125493</td>\n",
       "    </tr>\n",
       "    <tr>\n",
       "      <th>142</th>\n",
       "      <td>0.345421</td>\n",
       "      <td>1.462264</td>\n",
       "      <td>-0.517102</td>\n",
       "      <td>0.017883</td>\n",
       "      <td>1.416746</td>\n",
       "      <td>-0.002360</td>\n",
       "      <td>0.306388</td>\n",
       "      <td>0.393376</td>\n",
       "      <td>0.199578</td>\n",
       "      <td>1.378668</td>\n",
       "    </tr>\n",
       "    <tr>\n",
       "      <th>143</th>\n",
       "      <td>-0.774277</td>\n",
       "      <td>-0.339912</td>\n",
       "      <td>-1.061115</td>\n",
       "      <td>-0.732008</td>\n",
       "      <td>0.758022</td>\n",
       "      <td>-0.154812</td>\n",
       "      <td>-2.058888</td>\n",
       "      <td>-2.135809</td>\n",
       "      <td>-0.732525</td>\n",
       "      <td>-0.347439</td>\n",
       "    </tr>\n",
       "  </tbody>\n",
       "</table>\n",
       "<p>144 rows × 10 columns</p>\n",
       "</div>"
      ],
      "text/plain": [
       "         O2_1      O2_2     NH4_1     NH4_2     NO2_1     NO2_2     NO3_1  \\\n",
       "0    0.425462  0.197201  0.582635  0.971205  0.269592  0.319885 -0.440337   \n",
       "1    0.544547  0.663001  0.623522  0.501471 -0.401798 -0.598370 -0.696229   \n",
       "2   -0.072976 -0.262286  1.997515  1.810066  0.362592  0.483744 -0.601366   \n",
       "3    0.104262 -0.717024  0.370143  0.407296 -0.697743 -0.551446 -1.251361   \n",
       "4   -1.006411 -0.854164  0.382142  0.785270  1.221232  1.972354 -0.587279   \n",
       "..        ...       ...       ...       ...       ...       ...       ...   \n",
       "139 -0.284981 -0.419650 -0.255041  1.664881  2.120797 -0.318377  0.185812   \n",
       "140 -0.864859 -1.280426 -0.290372  0.017883  2.137578  2.338861  0.728598   \n",
       "141  0.032105  0.731384  2.067546  2.187739  0.968061  0.860436 -1.317192   \n",
       "142  0.345421  1.462264 -0.517102  0.017883  1.416746 -0.002360  0.306388   \n",
       "143 -0.774277 -0.339912 -1.061115 -0.732008  0.758022 -0.154812 -2.058888   \n",
       "\n",
       "        NO3_2    BOD5_1    BOD5_2  \n",
       "0   -0.428021  0.006209  0.522629  \n",
       "1   -1.095671  0.513850  0.967304  \n",
       "2   -0.816648 -0.847650 -1.148793  \n",
       "3   -1.198934  1.282423  1.063045  \n",
       "4   -0.431078  0.340347  0.261508  \n",
       "..        ...       ...       ...  \n",
       "139  0.324063  0.103738  0.499299  \n",
       "140  0.252238  1.400704  1.461286  \n",
       "141  0.182167  0.914148  1.125493  \n",
       "142  0.393376  0.199578  1.378668  \n",
       "143 -2.135809 -0.732525 -0.347439  \n",
       "\n",
       "[144 rows x 10 columns]"
      ]
     },
     "execution_count": 287,
     "metadata": {},
     "output_type": "execute_result"
    }
   ],
   "source": [
    "from sklearn.preprocessing import StandardScaler\n",
    "from sklearn.preprocessing import PowerTransformer\n",
    "\n",
    "scaler = StandardScaler()\n",
    "q_scaler = PowerTransformer()\n",
    "scaled_X = scaler.fit_transform(X)\n",
    "q_scaled_X = q_scaler.fit_transform(X)\n",
    "\n",
    "pd.DataFrame(q_scaled_X, columns=X.columns)"
   ]
  },
  {
   "cell_type": "code",
   "execution_count": 288,
   "metadata": {},
   "outputs": [],
   "source": [
    "from sklearn.model_selection import train_test_split\n",
    "\n",
    "\n",
    "X_train, X_test, y_train, y_test = train_test_split(scaled_X, y, train_size=0.7)"
   ]
  },
  {
   "cell_type": "code",
   "execution_count": 291,
   "metadata": {},
   "outputs": [
    {
     "name": "stdout",
     "output_type": "stream",
     "text": [
      "LinearRegression() : 0.4689967944676089\n",
      "DecisionTreeRegressor() : 0.32545186191777353\n",
      "RandomForestRegressor() : 0.639000593988786\n",
      "KNeighborsRegressor() : 0.3773443619402673\n",
      "KNeighborsRegressor() : 0.3773443619402673\n",
      "XGBRegressor(base_score=None, booster=None, callbacks=None,\n",
      "             colsample_bylevel=None, colsample_bynode=None,\n",
      "             colsample_bytree=None, device=None, early_stopping_rounds=None,\n",
      "             enable_categorical=False, eval_metric=None, feature_types=None,\n",
      "             gamma=None, grow_policy=None, importance_type=None,\n",
      "             interaction_constraints=None, learning_rate=None, max_bin=None,\n",
      "             max_cat_threshold=None, max_cat_to_onehot=None,\n",
      "             max_delta_step=None, max_depth=None, max_leaves=None,\n",
      "             min_child_weight=None, missing=nan, monotone_constraints=None,\n",
      "             multi_strategy=None, n_estimators=None, n_jobs=None,\n",
      "             num_parallel_tree=None, random_state=None, ...) : 0.5136872794653518\n"
     ]
    }
   ],
   "source": [
    "from sklearn.linear_model import LinearRegression\n",
    "from sklearn.tree import DecisionTreeRegressor\n",
    "from sklearn.ensemble import RandomForestRegressor\n",
    "from sklearn.neighbors import KNeighborsRegressor\n",
    "from sklearn.neural_network import MLPRegressor\n",
    "from xgboost import XGBRegressor\n",
    "\n",
    "from sklearn.metrics import mean_squared_error, mean_absolute_error\n",
    "\n",
    "LR = LinearRegression()\n",
    "DTR = DecisionTreeRegressor()\n",
    "RFR = RandomForestRegressor()\n",
    "KNR = KNeighborsRegressor()\n",
    "MLP = MLPRegressor()\n",
    "XGB = XGBRegressor()\n",
    "\n",
    "\n",
    "models = [LR, DTR, RFR, KNR, KNR, XGB]\n",
    "result = []\n",
    "\n",
    "for model in models:\n",
    "    model.fit(X_train, y_train)\n",
    "    r2score = model.score(X_test, y_test)\n",
    "    print(model, \":\", r2score)\n",
    "    #    y_pred = model.predict(X_test)\n",
    "    #    rmse = np.sqrt(mean_squared_error(y_test, y_pred))\n",
    "    #    print(model, \":\", rmse)\n",
    "\n",
    "    result.append((model, r2score))"
   ]
  },
  {
   "cell_type": "code",
   "execution_count": 292,
   "metadata": {},
   "outputs": [
    {
     "data": {
      "text/plain": [
       "9.145763888888888"
      ]
     },
     "execution_count": 292,
     "metadata": {},
     "output_type": "execute_result"
    }
   ],
   "source": [
    "y.mean()"
   ]
  },
  {
   "cell_type": "code",
   "execution_count": 295,
   "metadata": {},
   "outputs": [],
   "source": [
    "y_new = pd.qcut(y, q=2, labels=[0, 1])"
   ]
  },
  {
   "cell_type": "code",
   "execution_count": 309,
   "metadata": {},
   "outputs": [
    {
     "data": {
      "text/plain": [
       "0.5"
      ]
     },
     "execution_count": 309,
     "metadata": {},
     "output_type": "execute_result"
    }
   ],
   "source": [
    "sum(y_new) / len(y_new)  # balance so it's okay to use accuracy"
   ]
  },
  {
   "cell_type": "code",
   "execution_count": 300,
   "metadata": {},
   "outputs": [],
   "source": [
    "X_train, X_test, y_train, y_test = train_test_split(scaled_X, y_new, train_size=0.7)"
   ]
  },
  {
   "cell_type": "code",
   "execution_count": 304,
   "metadata": {},
   "outputs": [
    {
     "name": "stdout",
     "output_type": "stream",
     "text": [
      "DecisionTreeClassifier() => Accuracy:  0.6818181818181818 F1:  0.6818181818181818 BA: ba\n",
      "RandomForestClassifier() => Accuracy:  0.7727272727272727 F1:  0.7619047619047619 BA: ba\n",
      "KNeighborsClassifier() => Accuracy:  0.7045454545454546 F1:  0.6976744186046512 BA: ba\n",
      "KNeighborsClassifier() => Accuracy:  0.7045454545454546 F1:  0.6976744186046512 BA: ba\n",
      "XGBClassifier(base_score=None, booster=None, callbacks=None,\n",
      "              colsample_bylevel=None, colsample_bynode=None,\n",
      "              colsample_bytree=None, device=None, early_stopping_rounds=None,\n",
      "              enable_categorical=False, eval_metric=None, feature_types=None,\n",
      "              gamma=None, grow_policy=None, importance_type=None,\n",
      "              interaction_constraints=None, learning_rate=None, max_bin=None,\n",
      "              max_cat_threshold=None, max_cat_to_onehot=None,\n",
      "              max_delta_step=None, max_depth=None, max_leaves=None,\n",
      "              min_child_weight=None, missing=nan, monotone_constraints=None,\n",
      "              multi_strategy=None, n_estimators=None, n_jobs=None,\n",
      "              num_parallel_tree=None, random_state=None, ...) => Accuracy:  0.8409090909090909 F1:  0.8444444444444444 BA: ba\n"
     ]
    }
   ],
   "source": [
    "from sklearn.tree import DecisionTreeClassifier\n",
    "from sklearn.ensemble import RandomForestClassifier\n",
    "from sklearn.neighbors import KNeighborsClassifier\n",
    "from sklearn.neural_network import MLPClassifier\n",
    "from xgboost import XGBClassifier\n",
    "\n",
    "from sklearn.metrics import accuracy_score, f1_score, balanced_accuracy_score\n",
    "\n",
    "DTR = DecisionTreeClassifier()\n",
    "RFR = RandomForestClassifier()\n",
    "KNR = KNeighborsClassifier()\n",
    "MLP = MLPClassifier()\n",
    "XGB = XGBClassifier()\n",
    "\n",
    "models = [DTR, RFR, KNR, KNR, XGB]\n",
    "result = []\n",
    "d = {}\n",
    "\n",
    "for model in models:\n",
    "    model.fit(X_train, y_train)\n",
    "    y_pred = model.predict(X_test)\n",
    "    accuracy = accuracy_score(y_test, y_pred)\n",
    "    f1 = f1_score(y_test, y_pred)\n",
    "    ba = balanced_accuracy_score(y_test, y_pred)\n",
    "    print(model, \"=> Accuracy: \", accuracy, \"F1: \", f1, \"BA:\", \"ba\")\n",
    "    result.append((model, accuracy))"
   ]
  }
 ],
 "metadata": {
  "kernelspec": {
   "display_name": "kaggle",
   "language": "python",
   "name": "python3"
  },
  "language_info": {
   "codemirror_mode": {
    "name": "ipython",
    "version": 3
   },
   "file_extension": ".py",
   "mimetype": "text/x-python",
   "name": "python",
   "nbconvert_exporter": "python",
   "pygments_lexer": "ipython3",
   "version": "3.9.6"
  }
 },
 "nbformat": 4,
 "nbformat_minor": 2
}
