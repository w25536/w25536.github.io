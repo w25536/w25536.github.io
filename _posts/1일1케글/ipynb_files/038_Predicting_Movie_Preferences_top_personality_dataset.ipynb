{
 "cells": [
  {
   "cell_type": "code",
   "execution_count": 1,
   "metadata": {},
   "outputs": [
    {
     "name": "stderr",
     "output_type": "stream",
     "text": [
      "/Users/jeongho/Desktop/w25536-kaggle/kaggle/lib/python3.9/site-packages/urllib3/__init__.py:35: NotOpenSSLWarning: urllib3 v2 only supports OpenSSL 1.1.1+, currently the 'ssl' module is compiled with 'LibreSSL 2.8.3'. See: https://github.com/urllib3/urllib3/issues/3020\n",
      "  warnings.warn(\n"
     ]
    },
    {
     "name": "stdout",
     "output_type": "stream",
     "text": [
      "Warning: Looks like you're using an outdated `kagglehub` version, please consider updating (latest version: 0.3.6)\n",
      "Path to dataset files: /Users/jeongho/.cache/kagglehub/datasets/arslanali4343/top-personality-dataset/versions/1\n"
     ]
    }
   ],
   "source": [
    "import kagglehub\n",
    "\n",
    "# Download latest version\n",
    "path = kagglehub.dataset_download(\"arslanali4343/top-personality-dataset\")\n",
    "\n",
    "print(\"Path to dataset files:\", path)"
   ]
  },
  {
   "cell_type": "code",
   "execution_count": 2,
   "metadata": {},
   "outputs": [],
   "source": [
    "import pandas as pd\n",
    "import numpy as np\n",
    "import matplotlib.pyplot as plt\n",
    "import seaborn as sns\n",
    "\n",
    "import os\n",
    "\n",
    "df = pd.read_csv(os.path.join(path, \"2018-personality-data.csv\"))"
   ]
  },
  {
   "cell_type": "code",
   "execution_count": 3,
   "metadata": {},
   "outputs": [
    {
     "data": {
      "text/html": [
       "<div>\n",
       "<style scoped>\n",
       "    .dataframe tbody tr th:only-of-type {\n",
       "        vertical-align: middle;\n",
       "    }\n",
       "\n",
       "    .dataframe tbody tr th {\n",
       "        vertical-align: top;\n",
       "    }\n",
       "\n",
       "    .dataframe thead th {\n",
       "        text-align: right;\n",
       "    }\n",
       "</style>\n",
       "<table border=\"1\" class=\"dataframe\">\n",
       "  <thead>\n",
       "    <tr style=\"text-align: right;\">\n",
       "      <th></th>\n",
       "      <th>userid</th>\n",
       "      <th>openness</th>\n",
       "      <th>agreeableness</th>\n",
       "      <th>emotional_stability</th>\n",
       "      <th>conscientiousness</th>\n",
       "      <th>extraversion</th>\n",
       "      <th>assigned metric</th>\n",
       "      <th>assigned condition</th>\n",
       "      <th>movie_1</th>\n",
       "      <th>predicted_rating_1</th>\n",
       "      <th>...</th>\n",
       "      <th>movie_9</th>\n",
       "      <th>predicted_rating_9</th>\n",
       "      <th>movie_10</th>\n",
       "      <th>predicted_rating_10</th>\n",
       "      <th>movie_11</th>\n",
       "      <th>predicted_rating_11</th>\n",
       "      <th>movie_12</th>\n",
       "      <th>predicted_rating_12</th>\n",
       "      <th>is_personalized</th>\n",
       "      <th>enjoy_watching</th>\n",
       "    </tr>\n",
       "  </thead>\n",
       "  <tbody>\n",
       "    <tr>\n",
       "      <th>0</th>\n",
       "      <td>8e7cebf9a234c064b75016249f2ac65e</td>\n",
       "      <td>5.0</td>\n",
       "      <td>2.0</td>\n",
       "      <td>3.0</td>\n",
       "      <td>2.5</td>\n",
       "      <td>6.5</td>\n",
       "      <td>serendipity</td>\n",
       "      <td>high</td>\n",
       "      <td>77658</td>\n",
       "      <td>4.410466</td>\n",
       "      <td>...</td>\n",
       "      <td>120138</td>\n",
       "      <td>4.244817</td>\n",
       "      <td>121372</td>\n",
       "      <td>4.396004</td>\n",
       "      <td>127152</td>\n",
       "      <td>4.120456</td>\n",
       "      <td>95311</td>\n",
       "      <td>4.053847</td>\n",
       "      <td>4</td>\n",
       "      <td>4</td>\n",
       "    </tr>\n",
       "    <tr>\n",
       "      <th>1</th>\n",
       "      <td>77c7d756a093150d4377720abeaeef76</td>\n",
       "      <td>7.0</td>\n",
       "      <td>4.0</td>\n",
       "      <td>6.0</td>\n",
       "      <td>5.5</td>\n",
       "      <td>4.0</td>\n",
       "      <td>all</td>\n",
       "      <td>default</td>\n",
       "      <td>94959</td>\n",
       "      <td>4.207280</td>\n",
       "      <td>...</td>\n",
       "      <td>56782</td>\n",
       "      <td>4.019599</td>\n",
       "      <td>5618</td>\n",
       "      <td>3.963953</td>\n",
       "      <td>969</td>\n",
       "      <td>4.174188</td>\n",
       "      <td>1232</td>\n",
       "      <td>4.334877</td>\n",
       "      <td>2</td>\n",
       "      <td>3</td>\n",
       "    </tr>\n",
       "    <tr>\n",
       "      <th>2</th>\n",
       "      <td>b7e8a92987a530cc368719a0e60e26a3</td>\n",
       "      <td>4.0</td>\n",
       "      <td>3.0</td>\n",
       "      <td>4.5</td>\n",
       "      <td>2.0</td>\n",
       "      <td>2.5</td>\n",
       "      <td>serendipity</td>\n",
       "      <td>medium</td>\n",
       "      <td>110501</td>\n",
       "      <td>4.868064</td>\n",
       "      <td>...</td>\n",
       "      <td>2288</td>\n",
       "      <td>4.823212</td>\n",
       "      <td>3307</td>\n",
       "      <td>4.676756</td>\n",
       "      <td>1172</td>\n",
       "      <td>4.649281</td>\n",
       "      <td>1212</td>\n",
       "      <td>4.744990</td>\n",
       "      <td>2</td>\n",
       "      <td>2</td>\n",
       "    </tr>\n",
       "    <tr>\n",
       "      <th>3</th>\n",
       "      <td>92561f21446e017dd6b68b94b23ad5b7</td>\n",
       "      <td>5.5</td>\n",
       "      <td>5.5</td>\n",
       "      <td>4.0</td>\n",
       "      <td>4.5</td>\n",
       "      <td>4.0</td>\n",
       "      <td>popularity</td>\n",
       "      <td>medium</td>\n",
       "      <td>2905</td>\n",
       "      <td>4.526371</td>\n",
       "      <td>...</td>\n",
       "      <td>3030</td>\n",
       "      <td>4.425689</td>\n",
       "      <td>1281</td>\n",
       "      <td>4.479921</td>\n",
       "      <td>940</td>\n",
       "      <td>4.355061</td>\n",
       "      <td>905</td>\n",
       "      <td>4.317927</td>\n",
       "      <td>3</td>\n",
       "      <td>3</td>\n",
       "    </tr>\n",
       "    <tr>\n",
       "      <th>4</th>\n",
       "      <td>030001ac2145a938b07e686a35a2d638</td>\n",
       "      <td>5.5</td>\n",
       "      <td>5.5</td>\n",
       "      <td>3.5</td>\n",
       "      <td>4.5</td>\n",
       "      <td>2.5</td>\n",
       "      <td>popularity</td>\n",
       "      <td>medium</td>\n",
       "      <td>2905</td>\n",
       "      <td>4.526371</td>\n",
       "      <td>...</td>\n",
       "      <td>3030</td>\n",
       "      <td>4.425689</td>\n",
       "      <td>1281</td>\n",
       "      <td>4.479921</td>\n",
       "      <td>940</td>\n",
       "      <td>4.355061</td>\n",
       "      <td>905</td>\n",
       "      <td>4.317927</td>\n",
       "      <td>2</td>\n",
       "      <td>3</td>\n",
       "    </tr>\n",
       "  </tbody>\n",
       "</table>\n",
       "<p>5 rows × 34 columns</p>\n",
       "</div>"
      ],
      "text/plain": [
       "                             userid   openness   agreeableness  \\\n",
       "0  8e7cebf9a234c064b75016249f2ac65e        5.0             2.0   \n",
       "1  77c7d756a093150d4377720abeaeef76        7.0             4.0   \n",
       "2  b7e8a92987a530cc368719a0e60e26a3        4.0             3.0   \n",
       "3  92561f21446e017dd6b68b94b23ad5b7        5.5             5.5   \n",
       "4  030001ac2145a938b07e686a35a2d638        5.5             5.5   \n",
       "\n",
       "    emotional_stability   conscientiousness   extraversion  assigned metric  \\\n",
       "0                   3.0                 2.5            6.5      serendipity   \n",
       "1                   6.0                 5.5            4.0              all   \n",
       "2                   4.5                 2.0            2.5      serendipity   \n",
       "3                   4.0                 4.5            4.0       popularity   \n",
       "4                   3.5                 4.5            2.5       popularity   \n",
       "\n",
       "   assigned condition   movie_1   predicted_rating_1  ...   movie_9  \\\n",
       "0                high     77658             4.410466  ...    120138   \n",
       "1             default     94959             4.207280  ...     56782   \n",
       "2              medium    110501             4.868064  ...      2288   \n",
       "3              medium      2905             4.526371  ...      3030   \n",
       "4              medium      2905             4.526371  ...      3030   \n",
       "\n",
       "    predicted_rating_9   movie_10   predicted_rating_10   movie_11  \\\n",
       "0             4.244817     121372              4.396004     127152   \n",
       "1             4.019599       5618              3.963953        969   \n",
       "2             4.823212       3307              4.676756       1172   \n",
       "3             4.425689       1281              4.479921        940   \n",
       "4             4.425689       1281              4.479921        940   \n",
       "\n",
       "    predicted_rating_11   movie_12   predicted_rating_12   is_personalized  \\\n",
       "0              4.120456      95311              4.053847                 4   \n",
       "1              4.174188       1232              4.334877                 2   \n",
       "2              4.649281       1212              4.744990                 2   \n",
       "3              4.355061        905              4.317927                 3   \n",
       "4              4.355061        905              4.317927                 2   \n",
       "\n",
       "    enjoy_watching   \n",
       "0                 4  \n",
       "1                 3  \n",
       "2                 2  \n",
       "3                 3  \n",
       "4                 3  \n",
       "\n",
       "[5 rows x 34 columns]"
      ]
     },
     "execution_count": 3,
     "metadata": {},
     "output_type": "execute_result"
    }
   ],
   "source": [
    "df.head()"
   ]
  },
  {
   "cell_type": "code",
   "execution_count": 14,
   "metadata": {},
   "outputs": [
    {
     "name": "stdout",
     "output_type": "stream",
     "text": [
      "<class 'pandas.core.frame.DataFrame'>\n",
      "RangeIndex: 1834 entries, 0 to 1833\n",
      "Data columns (total 9 columns):\n",
      " #   Column                Non-Null Count  Dtype  \n",
      "---  ------                --------------  -----  \n",
      " 0    openness             1834 non-null   float64\n",
      " 1    agreeableness        1834 non-null   float64\n",
      " 2    emotional_stability  1834 non-null   float64\n",
      " 3    conscientiousness    1834 non-null   float64\n",
      " 4    extraversion         1834 non-null   float64\n",
      " 5    assigned metric      1834 non-null   object \n",
      " 6    assigned condition   1834 non-null   int64  \n",
      " 7    is_personalized      1834 non-null   int64  \n",
      " 8    enjoy_watching       1834 non-null   int64  \n",
      "dtypes: float64(5), int64(3), object(1)\n",
      "memory usage: 129.1+ KB\n"
     ]
    }
   ],
   "source": [
    "df.info()"
   ]
  },
  {
   "cell_type": "code",
   "execution_count": 15,
   "metadata": {},
   "outputs": [
    {
     "data": {
      "text/plain": [
       "openness               0\n",
       "agreeableness          0\n",
       "emotional_stability    0\n",
       "conscientiousness      0\n",
       "extraversion           0\n",
       "assigned metric        0\n",
       "assigned condition     0\n",
       "is_personalized        0\n",
       "enjoy_watching         0\n",
       "dtype: int64"
      ]
     },
     "execution_count": 15,
     "metadata": {},
     "output_type": "execute_result"
    }
   ],
   "source": [
    "df.isna().sum()"
   ]
  },
  {
   "cell_type": "code",
   "execution_count": 6,
   "metadata": {},
   "outputs": [
    {
     "name": "stdout",
     "output_type": "stream",
     "text": [
      "{'userid': array(['8e7cebf9a234c064b75016249f2ac65e',\n",
      "       '77c7d756a093150d4377720abeaeef76',\n",
      "       'b7e8a92987a530cc368719a0e60e26a3', ...,\n",
      "       'a06386edadf3bc614dadb7044708c46c',\n",
      "       'bad56d9506832cd79d874a6b66b3d813',\n",
      "       '721ea658e148fc0f76ddd6e2b0e02422'], dtype=object)}\n",
      "{' assigned metric': array([' serendipity', ' all', ' popularity', ' diversity'], dtype=object)}\n",
      "{' assigned condition': array([' high', ' default', ' medium', ' low'], dtype=object)}\n"
     ]
    }
   ],
   "source": [
    "for col in list(df.select_dtypes(object).columns):\n",
    "    print({col: df[col].unique()})"
   ]
  },
  {
   "cell_type": "code",
   "execution_count": 7,
   "metadata": {},
   "outputs": [],
   "source": [
    "def preprocess_inputs(df):\n",
    "\n",
    "    df.copy()\n",
    "\n",
    "    df = df.drop(\n",
    "        [\n",
    "            \"userid\",\n",
    "            \" movie_1\",\n",
    "            \" predicted_rating_1\",\n",
    "            \" movie_2\",\n",
    "            \" predicted_rating_2\",\n",
    "            \" movie_3\",\n",
    "            \" predicted_rating_3\",\n",
    "            \" movie_4\",\n",
    "            \" predicted_rating_4\",\n",
    "            \" movie_5\",\n",
    "            \" predicted_rating_5\",\n",
    "            \" movie_6\",\n",
    "            \" predicted_rating_6\",\n",
    "            \" movie_7\",\n",
    "            \" predicted_rating_7\",\n",
    "            \" movie_8\",\n",
    "            \" predicted_rating_8\",\n",
    "            \" movie_9\",\n",
    "            \" predicted_rating_9\",\n",
    "            \" movie_10\",\n",
    "            \" predicted_rating_10\",\n",
    "            \" movie_11\",\n",
    "            \" predicted_rating_11\",\n",
    "            \" movie_12\",\n",
    "            \" predicted_rating_12\",\n",
    "        ],\n",
    "        axis=1,\n",
    "    )\n",
    "\n",
    "    df[\" assigned condition\"] = df[\" assigned condition\"].map(\n",
    "        {\" low\": 0, \" medium\": 1, \" default\": 2, \" high\": 3}\n",
    "    )\n",
    "\n",
    "    return df"
   ]
  },
  {
   "cell_type": "code",
   "execution_count": 11,
   "metadata": {},
   "outputs": [],
   "source": [
    "df = preprocess_inputs(df)"
   ]
  },
  {
   "cell_type": "code",
   "execution_count": 12,
   "metadata": {},
   "outputs": [
    {
     "data": {
      "text/plain": [
       "Index([' openness', ' agreeableness', ' emotional_stability',\n",
       "       ' conscientiousness', ' extraversion', ' assigned metric',\n",
       "       ' assigned condition', ' is_personalized', ' enjoy_watching '],\n",
       "      dtype='object')"
      ]
     },
     "execution_count": 12,
     "metadata": {},
     "output_type": "execute_result"
    }
   ],
   "source": [
    "df.columns"
   ]
  },
  {
   "cell_type": "code",
   "execution_count": 13,
   "metadata": {},
   "outputs": [
    {
     "data": {
      "text/html": [
       "<div>\n",
       "<style scoped>\n",
       "    .dataframe tbody tr th:only-of-type {\n",
       "        vertical-align: middle;\n",
       "    }\n",
       "\n",
       "    .dataframe tbody tr th {\n",
       "        vertical-align: top;\n",
       "    }\n",
       "\n",
       "    .dataframe thead th {\n",
       "        text-align: right;\n",
       "    }\n",
       "</style>\n",
       "<table border=\"1\" class=\"dataframe\">\n",
       "  <thead>\n",
       "    <tr style=\"text-align: right;\">\n",
       "      <th></th>\n",
       "      <th>assigned metric</th>\n",
       "    </tr>\n",
       "  </thead>\n",
       "  <tbody>\n",
       "    <tr>\n",
       "      <th>0</th>\n",
       "      <td>serendipity</td>\n",
       "    </tr>\n",
       "    <tr>\n",
       "      <th>1</th>\n",
       "      <td>all</td>\n",
       "    </tr>\n",
       "    <tr>\n",
       "      <th>2</th>\n",
       "      <td>serendipity</td>\n",
       "    </tr>\n",
       "    <tr>\n",
       "      <th>3</th>\n",
       "      <td>popularity</td>\n",
       "    </tr>\n",
       "    <tr>\n",
       "      <th>4</th>\n",
       "      <td>popularity</td>\n",
       "    </tr>\n",
       "    <tr>\n",
       "      <th>...</th>\n",
       "      <td>...</td>\n",
       "    </tr>\n",
       "    <tr>\n",
       "      <th>1829</th>\n",
       "      <td>popularity</td>\n",
       "    </tr>\n",
       "    <tr>\n",
       "      <th>1830</th>\n",
       "      <td>serendipity</td>\n",
       "    </tr>\n",
       "    <tr>\n",
       "      <th>1831</th>\n",
       "      <td>serendipity</td>\n",
       "    </tr>\n",
       "    <tr>\n",
       "      <th>1832</th>\n",
       "      <td>serendipity</td>\n",
       "    </tr>\n",
       "    <tr>\n",
       "      <th>1833</th>\n",
       "      <td>popularity</td>\n",
       "    </tr>\n",
       "  </tbody>\n",
       "</table>\n",
       "<p>1834 rows × 1 columns</p>\n",
       "</div>"
      ],
      "text/plain": [
       "     assigned metric\n",
       "0        serendipity\n",
       "1                all\n",
       "2        serendipity\n",
       "3         popularity\n",
       "4         popularity\n",
       "...              ...\n",
       "1829      popularity\n",
       "1830     serendipity\n",
       "1831     serendipity\n",
       "1832     serendipity\n",
       "1833      popularity\n",
       "\n",
       "[1834 rows x 1 columns]"
      ]
     },
     "execution_count": 13,
     "metadata": {},
     "output_type": "execute_result"
    }
   ],
   "source": []
  },
  {
   "cell_type": "code",
   "execution_count": 3,
   "metadata": {},
   "outputs": [
    {
     "name": "stdout",
     "output_type": "stream",
     "text": [
      "[1.         1.41421356 1.73205081]\n"
     ]
    }
   ],
   "source": [
    "import numpy as np\n",
    "\n",
    "numbers = [1, 2, 3]\n",
    "result = np.sqrt(numbers)\n",
    "print(result)"
   ]
  },
  {
   "cell_type": "code",
   "execution_count": null,
   "metadata": {},
   "outputs": [],
   "source": []
  }
 ],
 "metadata": {
  "kernelspec": {
   "display_name": "kaggle",
   "language": "python",
   "name": "python3"
  },
  "language_info": {
   "codemirror_mode": {
    "name": "ipython",
    "version": 3
   },
   "file_extension": ".py",
   "mimetype": "text/x-python",
   "name": "python",
   "nbconvert_exporter": "python",
   "pygments_lexer": "ipython3",
   "version": "3.9.6"
  }
 },
 "nbformat": 4,
 "nbformat_minor": 2
}
